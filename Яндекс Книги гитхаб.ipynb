{
 "cells": [
  {
   "cell_type": "markdown",
   "id": "_E41Wr5fqnFT",
   "metadata": {
    "id": "_E41Wr5fqnFT"
   },
   "source": [
    "# Часть 1. Проверка гипотезы в Python и составление аналитической записки"
   ]
  },
  {
   "cell_type": "markdown",
   "id": "Z5_6nf-FrY7o",
   "metadata": {
    "id": "Z5_6nf-FrY7o"
   },
   "source": [
    "Я предобработала данные в SQL, и теперь они готовы для проверки гипотезы в Python. Загрузим данные пользователей из Москвы и Санкт-Петербурга c суммой часов их активности из файла. \n",
    "\n",
    "Нулевая гипотеза $H_0: \\mu_{\\text{СПб}} \\leq \\mu_{\\text{Москва}}$ <br> Среднее время активности пользователей в Санкт-Петербурге не больше, чем в Москве.\n",
    "\n",
    "Альтернативная гипотеза $H_1: \\mu_{\\text{СПб}} > \\mu_{\\text{Москва}}$ <br> Среднее время активности пользователей в Санкт-Петербурге больше, и это различие статистически значимо.\n",
    "\n",
    "По результатам анализа данных подготовлю аналитическую записку, в которой опишу:\n",
    "\n",
    "Выбранный тип t-теста и уровень статистической значимости.\n",
    "\n",
    "Результат теста, или p-value.\n",
    "\n",
    "Вывод на основе полученного p-value, то есть интерпретацию результатов.\n",
    "\n",
    "Одну или две возможные причины, объясняющие полученные результаты."
   ]
  },
  {
   "cell_type": "markdown",
   "id": "e06910dd",
   "metadata": {
    "id": "e06910dd"
   },
   "source": [
    "- Автор: Савина Юлия Сергеевнач"
   ]
  },
  {
   "cell_type": "markdown",
   "id": "4149134c",
   "metadata": {
    "id": "4149134c"
   },
   "source": [
    "## Цели и задачи проекта\n",
    "\n",
    "Необходимо выяснить, в каком городе пользователи больше читают книги на сервисе яндекс книги.После статистического теста нужно предположить причины, объянсяющие результаты."
   ]
  },
  {
   "cell_type": "markdown",
   "id": "728986ea",
   "metadata": {
    "id": "728986ea"
   },
   "source": [
    "## Описание данных\n",
    "- unnamed:0 - номер записи (int64)\n",
    "- city - город (object)\n",
    "- puid - идентификатор пользователя (int64)\n",
    "- hours - сумма часов чтения и прослушивания (float64)"
   ]
  },
  {
   "cell_type": "markdown",
   "id": "4fecaf95",
   "metadata": {
    "id": "4fecaf95"
   },
   "source": [
    "## Содержимое проекта\n",
    "\n",
    "<font color='#777778'>Перечислите основные шаги проекта или напишите оглавление. Используйте описание проекта, чтобы зафиксировать основные шаги.</font>\n",
    "\n",
    "1. Загрузить данные и познакомиться с ними.\n",
    "2. Проверить наличие дубликатов в идентификаторах пользователей\n",
    "3. Сравнить размеры групп, их статистику и распределение.\n",
    "4. Статистически доказать гипотезу.\n",
    "5. Подготовить аналитическую записку, описав тип t-теста, уровень стат значимости, результат теста или p-value\n",
    "6. Интерпретация результатов.\n",
    "7. Описать возможные причины, объясняющие полученные результаты."
   ]
  },
  {
   "cell_type": "markdown",
   "id": "6f7d21d6",
   "metadata": {
    "id": "6f7d21d6"
   },
   "source": [
    "## 1. Загрузка данных и знакомство с ними\n",
    "\n",
    "Загрузим данные пользователей из Москвы и Санкт-Петербурга c их активностью (суммой часов чтения и прослушивания) из файла"
   ]
  },
  {
   "cell_type": "code",
   "execution_count": 36,
   "id": "1fdae3ba",
   "metadata": {},
   "outputs": [],
   "source": [
    "#Импортируем библиотеки и загружаем файл\n",
    "import pandas as pd\n",
    "import numpy as np\n",
    "from scipy import stats as st\n",
    "from scipy.stats import shapiro, ttest_ind, mannwhitneyu\n",
    "import matplotlib.pyplot as plt\n",
    "import seaborn as sns"
   ]
  },
  {
   "cell_type": "code",
   "execution_count": 37,
   "id": "05faf34b",
   "metadata": {
    "id": "05faf34b"
   },
   "outputs": [],
   "source": [
    "#Загрузка данных\n",
    "df = pd.read_csv('yandex_knigi_data.csv')"
   ]
  },
  {
   "cell_type": "markdown",
   "id": "08596745",
   "metadata": {},
   "source": [
    "Данные без пропусков. Всего 8784 строки"
   ]
  },
  {
   "cell_type": "code",
   "execution_count": 39,
   "id": "f68a7419",
   "metadata": {
    "id": "f68a7419"
   },
   "outputs": [
    {
     "name": "stdout",
     "output_type": "stream",
     "text": [
      "Кол-во уникальных пользователей 8540\n",
      "Примеры дублирующихся записей:\n",
      "Пользователь 2637041:\n"
     ]
    },
    {
     "data": {
      "text/html": [
       "<div>\n",
       "<style scoped>\n",
       "    .dataframe tbody tr th:only-of-type {\n",
       "        vertical-align: middle;\n",
       "    }\n",
       "\n",
       "    .dataframe tbody tr th {\n",
       "        vertical-align: top;\n",
       "    }\n",
       "\n",
       "    .dataframe thead th {\n",
       "        text-align: right;\n",
       "    }\n",
       "</style>\n",
       "<table border=\"1\" class=\"dataframe\">\n",
       "  <thead>\n",
       "    <tr style=\"text-align: right;\">\n",
       "      <th></th>\n",
       "      <th>city</th>\n",
       "      <th>hours</th>\n",
       "    </tr>\n",
       "  </thead>\n",
       "  <tbody>\n",
       "    <tr>\n",
       "      <th>35</th>\n",
       "      <td>Москва</td>\n",
       "      <td>10.317371</td>\n",
       "    </tr>\n",
       "    <tr>\n",
       "      <th>6247</th>\n",
       "      <td>Санкт-Петербург</td>\n",
       "      <td>3.883926</td>\n",
       "    </tr>\n",
       "  </tbody>\n",
       "</table>\n",
       "</div>"
      ],
      "text/plain": [
       "                 city      hours\n",
       "35             Москва  10.317371\n",
       "6247  Санкт-Петербург   3.883926"
      ]
     },
     "metadata": {},
     "output_type": "display_data"
    },
    {
     "name": "stdout",
     "output_type": "stream",
     "text": [
      "Пользователь 9979490:\n"
     ]
    },
    {
     "data": {
      "text/html": [
       "<div>\n",
       "<style scoped>\n",
       "    .dataframe tbody tr th:only-of-type {\n",
       "        vertical-align: middle;\n",
       "    }\n",
       "\n",
       "    .dataframe tbody tr th {\n",
       "        vertical-align: top;\n",
       "    }\n",
       "\n",
       "    .dataframe thead th {\n",
       "        text-align: right;\n",
       "    }\n",
       "</style>\n",
       "<table border=\"1\" class=\"dataframe\">\n",
       "  <thead>\n",
       "    <tr style=\"text-align: right;\">\n",
       "      <th></th>\n",
       "      <th>city</th>\n",
       "      <th>hours</th>\n",
       "    </tr>\n",
       "  </thead>\n",
       "  <tbody>\n",
       "    <tr>\n",
       "      <th>134</th>\n",
       "      <td>Москва</td>\n",
       "      <td>32.415573</td>\n",
       "    </tr>\n",
       "    <tr>\n",
       "      <th>6274</th>\n",
       "      <td>Санкт-Петербург</td>\n",
       "      <td>1.302997</td>\n",
       "    </tr>\n",
       "  </tbody>\n",
       "</table>\n",
       "</div>"
      ],
      "text/plain": [
       "                 city      hours\n",
       "134            Москва  32.415573\n",
       "6274  Санкт-Петербург   1.302997"
      ]
     },
     "metadata": {},
     "output_type": "display_data"
    },
    {
     "name": "stdout",
     "output_type": "stream",
     "text": [
      "Пользователь 10597984:\n"
     ]
    },
    {
     "data": {
      "text/html": [
       "<div>\n",
       "<style scoped>\n",
       "    .dataframe tbody tr th:only-of-type {\n",
       "        vertical-align: middle;\n",
       "    }\n",
       "\n",
       "    .dataframe tbody tr th {\n",
       "        vertical-align: top;\n",
       "    }\n",
       "\n",
       "    .dataframe thead th {\n",
       "        text-align: right;\n",
       "    }\n",
       "</style>\n",
       "<table border=\"1\" class=\"dataframe\">\n",
       "  <thead>\n",
       "    <tr style=\"text-align: right;\">\n",
       "      <th></th>\n",
       "      <th>city</th>\n",
       "      <th>hours</th>\n",
       "    </tr>\n",
       "  </thead>\n",
       "  <tbody>\n",
       "    <tr>\n",
       "      <th>145</th>\n",
       "      <td>Москва</td>\n",
       "      <td>42.931506</td>\n",
       "    </tr>\n",
       "    <tr>\n",
       "      <th>6279</th>\n",
       "      <td>Санкт-Петербург</td>\n",
       "      <td>9.041320</td>\n",
       "    </tr>\n",
       "  </tbody>\n",
       "</table>\n",
       "</div>"
      ],
      "text/plain": [
       "                 city      hours\n",
       "145            Москва  42.931506\n",
       "6279  Санкт-Петербург   9.041320"
      ]
     },
     "metadata": {},
     "output_type": "display_data"
    }
   ],
   "source": [
    "#Посчитаем кол-во уникальных пользователей\n",
    "print(f'Кол-во уникальных пользователей', df['puid'].nunique())\n",
    "duplicates = df[df['puid'].duplicated(keep=False)].sort_values('puid')\n",
    "print(\"Примеры дублирующихся записей:\")\n",
    "for puid in duplicates['puid'].unique()[:3]:\n",
    "    user_data = duplicates[duplicates['puid'] == puid]\n",
    "    print(f\"Пользователь {puid}:\")\n",
    "    display(user_data[['city', 'hours']])"
   ]
  },
  {
   "cell_type": "markdown",
   "id": "c42a03dd",
   "metadata": {},
   "source": [
    "Можно заметить, что записи пользователей-дубликатов появляютя в датафрейме сразу в 2 городах, это будет искажать результаты теста. Удалим их."
   ]
  },
  {
   "cell_type": "code",
   "execution_count": 40,
   "id": "bb574236",
   "metadata": {},
   "outputs": [],
   "source": [
    "df = df.drop_duplicates(subset = ['puid'],keep = False)"
   ]
  },
  {
   "cell_type": "code",
   "execution_count": 41,
   "id": "9c913018",
   "metadata": {},
   "outputs": [
    {
     "name": "stdout",
     "output_type": "stream",
     "text": [
      "Кол-во уникальных пользователей из города Санкт-Петербург 2142\n",
      "Кол-во уникальных пользователей из города Москва 5537\n"
     ]
    }
   ],
   "source": [
    "#Создадим отдельные датафреймы для наблюдаемых групп и узнаем кол-во уникальных пользователей\n",
    "df_spb = df[df['city']=='Санкт-Петербург']['hours']\n",
    "df_msc = df[df['city']=='Москва']['hours']\n",
    "print(f'Кол-во уникальных пользователей из города Санкт-Петербург {df_spb.nunique()}')\n",
    "print(f'Кол-во уникальных пользователей из города Москва {df_msc.nunique()}')"
   ]
  },
  {
   "cell_type": "code",
   "execution_count": 42,
   "id": "4b3d2dc6",
   "metadata": {},
   "outputs": [
    {
     "name": "stdout",
     "output_type": "stream",
     "text": [
      "Процентная разница в объеме групп 0.6131479140328698\n"
     ]
    }
   ],
   "source": [
    "perc_dif = abs(df_msc.nunique()-df_spb.nunique())/df_msc.nunique()\n",
    "print(f'Процентная разница в объеме групп {perc_dif}')"
   ]
  },
  {
   "cell_type": "code",
   "execution_count": 43,
   "id": "30301a16",
   "metadata": {},
   "outputs": [
    {
     "name": "stdout",
     "output_type": "stream",
     "text": [
      "\n",
      "Группа СПБ: среднее = 11, std = 40, var = 1587, 75% = 6, 99% = 147, max = 979\n",
      "Группа МСК: среднее = 11, std = 37, var = 1364, 75% = 6, 99% = 155, max = 857\n",
      "Отношение дисперсий: 1.164\n"
     ]
    }
   ],
   "source": [
    "print(f\"\\nГруппа СПБ: среднее = {df_spb.mean():.0f}, std = {df_spb.std():.0f}, var = {df_spb.var():.0f}, 75% = {df_spb.quantile(0.75):.0f}, 99% = {df_spb.quantile(0.99):.0f}, max = {df_spb.max():.0f}\")\n",
    "print(f\"Группа МСК: среднее = {df_msc.mean():.0f}, std = {df_msc.std():.0f}, var = {df_msc.var():.0f}, 75% = {df_msc.quantile(0.75):.0f}, 99% = {df_msc.quantile(0.99):.0f}, max = {df_msc.max():.0f}\")\n",
    "print(f\"Отношение дисперсий: {df_spb.var()/df_msc.var():.3f}\")"
   ]
  },
  {
   "cell_type": "code",
   "execution_count": 44,
   "id": "c205ba90",
   "metadata": {},
   "outputs": [
    {
     "name": "stdout",
     "output_type": "stream",
     "text": [
      "Среднее значение часов, проведенных за чтением в Москве:  1.39\n",
      "Среднее значение часов, проведенных за чтением в Санкт-Петербурге:  1.39\n"
     ]
    },
    {
     "data": {
      "image/png": "[encoded data removed]",
      "text/plain": [
       "<Figure size 1080x720 with 2 Axes>"
      ]
     },
     "metadata": {
      "needs_background": "light"
     },
     "output_type": "display_data"
    }
   ],
   "source": [
    "# Визуализируем распределения\n",
    "fig, axes = plt.subplots(1, 2, figsize=(15, 10))\n",
    "axes[0].boxplot([df_msc, df_spb], labels=['Москва', 'СПб'])\n",
    "axes[0].set_title('Распределение времени по городам (боксплот)')\n",
    "axes[0].set_ylabel('Часы')\n",
    "# Убираем выбросы для лучшей визуализации\n",
    "moscow_no_outliers = df_msc[df_msc < df_msc.quantile(0.8)]\n",
    "spb_no_outliers = df_spb[df_spb < df_spb.quantile(0.8)]\n",
    "print('Среднее значение часов, проведенных за чтением в Москве: ', round(moscow_no_outliers.mean(),2))\n",
    "print('Среднее значение часов, проведенных за чтением в Санкт-Петербурге: ',round(spb_no_outliers.mean(),2))\n",
    "axes[1].hist(moscow_no_outliers, bins=100, alpha=0.7, label='Москва', color='blue')\n",
    "axes[1].hist(spb_no_outliers, bins=100, alpha=0.7, label='СПб', color='red')\n",
    "axes[1].set_title('Распределение (без 20% выбросов)')\n",
    "axes[1].set_xlabel('Часы')\n",
    "axes[1].set_ylabel('Количество пользователей')\n",
    "axes[1].legend()\n",
    "\n",
    "plt.tight_layout()\n",
    "plt.show()"
   ]
  },
  {
   "cell_type": "markdown",
   "id": "836cd5aa",
   "metadata": {},
   "source": [
    "По 1 графику можем увидеть, что кол-во часов в двух городах распределено примерно одинаково. Имеются выбросы. На 2 графике видно, что большинство пользователей читают и прослушивают книги примерно 1.5 часа."
   ]
  },
  {
   "cell_type": "markdown",
   "id": "956e82e2",
   "metadata": {
    "id": "956e82e2"
   },
   "source": [
    "## 2. Проверка гипотезы в Python\n",
    "\n",
    "Гипотеза звучит так: пользователи из Санкт-Петербурга проводят в среднем больше времени за чтением и прослушиванием книг в приложении, чем пользователи из Москвы. Попробуйте статистически это доказать, используя одностороннюю проверку гипотезы с двумя выборками:\n",
    "\n",
    "- Нулевая гипотеза H₀: Средняя активность пользователей в часах в двух группах (Москва и Санкт-Петербург) не различается.\n",
    "\n",
    "- Альтернативная гипотеза H₁: Средняя активность пользователей в Санкт-Петербурге больше, и это различие статистически значимо."
   ]
  },
  {
   "cell_type": "code",
   "execution_count": 57,
   "id": "6be5598f",
   "metadata": {},
   "outputs": [
    {
     "name": "stdout",
     "output_type": "stream",
     "text": [
      "p_value = 0.45\n",
      "Нулевая гипотеза находит подтверждение!\n",
      "Средняя активность пользователей в часах в двух группах (Москва и Санкт-Петербург) не различается\n"
     ]
    }
   ],
   "source": [
    "result = st.mannwhitneyu(df_spb, df_msc, alternative='greater')\n",
    "alpha = 0.05\n",
    "print(f'p_value = {result.pvalue:.2f}')\n",
    "if result.pvalue > alpha:\n",
    "    print('Нулевая гипотеза находит подтверждение!')\n",
    "else:\n",
    "    print('Нулевая гипотеза не находит подтверждения!')\n",
    "print(f'Средняя активность пользователей в часах в двух группах (Москва и Санкт-Петербург) не различается')"
   ]
  },
  {
   "cell_type": "code",
   "execution_count": 58,
   "id": "f8b8edc1",
   "metadata": {},
   "outputs": [
    {
     "name": "stdout",
     "output_type": "stream",
     "text": [
      "p-значение для Москвы: 0.0000\n",
      "p-значение для СПб: 0.0000\n",
      "Хотя бы одна из выборок НЕ нормально распределена. Применяем U-test (Манна-Уитни)\n",
      "p-значение выбранного теста: 0.4532\n"
     ]
    }
   ],
   "source": [
    "#!\n",
    "# 1. Проверка нормальности распределения (тест Шапиро-Уилка)\n",
    "p_m = shapiro(df_msc).pvalue\n",
    "p_s = shapiro(df_spb).pvalue\n",
    "\n",
    "print(f\"p-значение для Москвы: {p_m:.4f}\")\n",
    "print(f\"p-значение для СПб: {p_s:.4f}\")\n",
    "\n",
    "# 2. Выбор критерия\n",
    "if p_m > 0.05 and p_s > 0.05:\n",
    "    print(\"Обе выборки распределены нормально. Применяем t-test (с поправкой Уэлча)\")\n",
    "    stat, p = ttest_ind(df_spb, df_msc, equal_var=False, alternative='greater')\n",
    "else:\n",
    "    print(\"Хотя бы одна из выборок НЕ нормально распределена. Применяем U-test (Манна-Уитни)\")\n",
    "    stat, p = mannwhitneyu(df_spb, df_msc, alternative='greater')\n",
    "\n",
    "print(f\"p-значение выбранного теста: {p:.4f}\")"
   ]
  },
  {
   "cell_type": "code",
   "execution_count": 59,
   "id": "de95008a",
   "metadata": {},
   "outputs": [
    {
     "name": "stdout",
     "output_type": "stream",
     "text": [
      "p_value = 0.33\n",
      "Нулевая гипотеза находит подтверждение!\n",
      "Средняя активность пользователей в часах в двух группах (Москва и Санкт-Петербург) не различается\n"
     ]
    }
   ],
   "source": [
    "#!\n",
    "avdd = st.ttest_ind(df_spb, df_msc, alternative='greater')\n",
    "alpha = 0.10\n",
    "print(f'p_value = {avdd.pvalue:.2f}')\n",
    "if avdd.pvalue > alpha:\n",
    "    print('Нулевая гипотеза находит подтверждение!')\n",
    "else:\n",
    "    print('Нулевая гипотеза не находит подтверждения!')\n",
    "print(f'Средняя активность пользователей в часах в двух группах (Москва и Санкт-Петербург) не различается')"
   ]
  },
  {
   "cell_type": "markdown",
   "id": "f5c65997",
   "metadata": {},
   "source": [
    "Выводы двух тестов не расходятся."
   ]
  },
  {
   "cell_type": "markdown",
   "id": "6953e84c",
   "metadata": {
    "id": "6953e84c"
   },
   "source": [
    "## 3. Аналитическая записка"
   ]
  },
  {
   "cell_type": "markdown",
   "id": "8ebe98f3",
   "metadata": {},
   "source": [
    "Ядро аудитории (75%): В обеих группах состоит из малоактивных пользователей.\n",
    "Различие в \"хвосте\": Активность создается небольшим процентом активных пользователей. В группе СПБ этот \"хвост\" более \"тяжелый\" и неоднородный — есть несколько крайне активных пользователей, которые \"тянут\" на себе среднее значение и увеличивают общий разброс."
   ]
  },
  {
   "cell_type": "markdown",
   "id": "960afb7f",
   "metadata": {},
   "source": [
    "Мы провели статистический анализ и проверили гипотезу. Выбрали для работы U-тест Манна-Уитни. \n",
    "Уровень статистической значимости установили 5%. \n",
    "P-value = 0.45, что больше статистической значимости, а значит, мы не нулевую гипотезу.\n",
    "Выяснили, что средняя активность пользователей в часах в двух группах (Москва и Санкт-Петербург) не различается!"
   ]
  },
  {
   "cell_type": "markdown",
   "id": "hc1d6jVISegz",
   "metadata": {
    "id": "hc1d6jVISegz"
   },
   "source": [
    "----"
   ]
  },
  {
   "cell_type": "markdown",
   "id": "NqOUIYhbrIfC",
   "metadata": {
    "id": "NqOUIYhbrIfC"
   },
   "source": [
    "# Часть 2. Анализ результатов A/B-тестирования"
   ]
  },
  {
   "cell_type": "markdown",
   "id": "tDwMKFNGsClr",
   "metadata": {
    "id": "tDwMKFNGsClr"
   },
   "source": [
    "Задача — провести оценку результатов A/B-теста. В вашем распоряжении:\n",
    "\n",
    "* данные о действиях пользователей и распределении их на группы,\n",
    "\n",
    "* техническое задание.\n",
    "\n",
    "Оцените корректность проведения теста и проанализируйте его результаты."
   ]
  },
  {
   "cell_type": "markdown",
   "id": "UNXAAyF5r9Rk",
   "metadata": {
    "id": "UNXAAyF5r9Rk"
   },
   "source": [
    "## 1. Цели исследования.\n",
    "\n"
   ]
  },
  {
   "cell_type": "markdown",
   "id": "kHx-51yES8bd",
   "metadata": {
    "id": "kHx-51yES8bd"
   },
   "source": [
    "Необходимо провести оценку результатов A/B-теста, оценить корректность проведения теста и проанализировать его результаты.\n",
    "Проверим гипотезу: упрощение интерфейса приведёт к тому, что в течение семи дней после регистрации в системе конверсия зарегистрированных пользователей в покупателей увеличится как минимум на три процентных пункта."
   ]
  },
  {
   "cell_type": "markdown",
   "id": "_CZryx2OsH-s",
   "metadata": {
    "id": "_CZryx2OsH-s"
   },
   "source": [
    "## 2. Загрузим данные, оценим их целостность.\n"
   ]
  },
  {
   "cell_type": "code",
   "execution_count": 3,
   "id": "DjFcJbeGsTIg",
   "metadata": {
    "id": "DjFcJbeGsTIg"
   },
   "outputs": [],
   "source": [
    "participants = pd.read_csv('ab_test_participants.csv')\n",
    "events = pd.read_csv('ab_test_events.zip', parse_dates=['event_dt'], low_memory=False)"
   ]
  },
  {
   "cell_type": "markdown",
   "id": "950a38be",
   "metadata": {},
   "source": [
    "Всего 14525 строк, пропусков нет, типы данных правильные.\n",
    "- user_id — идентификатор пользователя;\n",
    "- group — группа пользователя;\n",
    "- ab_test — название теста;\n",
    "- device — устройство, с которого происходила регистрация."
   ]
  },
  {
   "cell_type": "markdown",
   "id": "70f04b85",
   "metadata": {},
   "source": [
    "Всего 787286 строк, пропуски имеются в столбце details, типы данных правильные. Есть надписи 'GLOBAL' в идентификаторах пользователей.\n",
    "- user_id — идентификатор пользователя;\n",
    "- event_dt — дата и время события;\n",
    "- event_name — тип события;\n",
    "- details — дополнительные данные о событии."
   ]
  },
  {
   "cell_type": "code",
   "execution_count": 4,
   "id": "0ef879f2",
   "metadata": {},
   "outputs": [
    {
     "name": "stdout",
     "output_type": "stream",
     "text": [
      "Кол-во GLOBAL =  58495\n"
     ]
    }
   ],
   "source": [
    "print('Кол-во GLOBAL = ', events[events['user_id']=='GLOBAL']['user_id'].count())"
   ]
  },
  {
   "cell_type": "markdown",
   "id": "CnzA-efasUrk",
   "metadata": {
    "id": "CnzA-efasUrk"
   },
   "source": [
    "## 3. По таблице `ab_test_participants` оценим корректность проведения теста:\n",
    "\n",
    "   3\\.1 Выделим пользователей, участвующих в тесте, и проверим:\n",
    "\n",
    "   - соответствие требованиям технического задания,\n",
    "\n",
    "   - равномерность распределения пользователей по группам теста,\n",
    "\n",
    "   - отсутствие пересечений с конкурирующим тестом (нет пользователей, участвующих одновременно в двух тестовых группах)."
   ]
  },
  {
   "cell_type": "code",
   "execution_count": 6,
   "id": "465c4ac5",
   "metadata": {},
   "outputs": [
    {
     "name": "stdout",
     "output_type": "stream",
     "text": [
      "['interface_eu_test' 'recommender_system_test']\n"
     ]
    }
   ],
   "source": [
    "# Узнаем какие a/b тесты проводились, нас интересует interface_eu_test\n",
    "print(participants['ab_test'].unique())"
   ]
  },
  {
   "cell_type": "code",
   "execution_count": 20,
   "id": "6ab3c76d",
   "metadata": {},
   "outputs": [
    {
     "name": "stdout",
     "output_type": "stream",
     "text": [
      "Количество пересечений между группами А и В =  446\n"
     ]
    }
   ],
   "source": [
    "test_A = participants[participants['group']=='A']\n",
    "test_B = participants[participants['group']=='B']\n",
    "intersection_users = set(test_A['user_id']).intersection(set(test_B['user_id']))\n",
    "print('Количество пересечений между группами А и В = ',len(intersection_users))"
   ]
  },
  {
   "cell_type": "code",
   "execution_count": 21,
   "id": "c59545ce",
   "metadata": {},
   "outputs": [
    {
     "name": "stdout",
     "output_type": "stream",
     "text": [
      "Количество пересечений между тестами=  887\n"
     ]
    }
   ],
   "source": [
    "test_eu = participants[participants['ab_test']=='interface_eu_test']\n",
    "test_rec = participants[participants['ab_test']=='recommender_system_test']\n",
    "intersection_users_test = set(test_eu['user_id']).intersection(set(test_rec['user_id']))\n",
    "print('Количество пересечений между тестами= ',len(intersection_users_test))"
   ]
  },
  {
   "cell_type": "code",
   "execution_count": 19,
   "id": "52479788",
   "metadata": {},
   "outputs": [],
   "source": [
    "# Объединяем все проблемные user_id\n",
    "problem_users = intersection_users.union(intersection_users_test)\n",
    "# Фильтруем исходный датафрейм\n",
    "test_clean = participants[~participants['user_id'].isin(problem_users)]"
   ]
  },
  {
   "cell_type": "code",
   "execution_count": 24,
   "id": "445af113",
   "metadata": {},
   "outputs": [],
   "source": [
    "# Теперь оставим в таблице записи только с interface_eu_test\n",
    "eu_test = test_clean[test_clean['ab_test']=='interface_eu_test']"
   ]
  },
  {
   "cell_type": "code",
   "execution_count": 25,
   "id": "aNa3zHrKslEN",
   "metadata": {
    "id": "aNa3zHrKslEN"
   },
   "outputs": [
    {
     "name": "stdout",
     "output_type": "stream",
     "text": [
      "Кол-во пользователей в контрольной группе:  4952\n",
      "Кол-во пользователей в тестовой группе:  5011\n",
      "Процентная разница в количестве пользователей в группах control и test = 1.18%\n"
     ]
    }
   ],
   "source": [
    "#Посчитаем кол-во пользователей в каждой группе и сравним\n",
    "test_group = eu_test.groupby('group')['user_id'].nunique()\n",
    "test_A_count = test_group[0]\n",
    "test_B_count = test_group[1]\n",
    "print('Кол-во пользователей в контрольной группе: ', test_A_count)\n",
    "print('Кол-во пользователей в тестовой группе: ',test_B_count)\n",
    "perc_diff = 100*abs(test_B_count-test_A_count)/test_B_count\n",
    "print(f'Процентная разница в количестве пользователей в группах control и test = {perc_diff:.2f}%')"
   ]
  },
  {
   "cell_type": "code",
   "execution_count": 9,
   "id": "e330071a",
   "metadata": {},
   "outputs": [
    {
     "data": {
      "image/png": "[encoded data removed]",
      "text/plain": [
       "<Figure size 720x432 with 1 Axes>"
      ]
     },
     "metadata": {
      "needs_background": "light"
     },
     "output_type": "display_data"
    }
   ],
   "source": [
    "plt.figure(figsize=(10, 6))\n",
    "test_group.plot.bar(color = ['lightblue','lightcoral'])\n",
    "plt.title('Количество пользователей по группам', fontsize=12, fontweight='bold')\n",
    "plt.ylabel('Количество пользователей', fontsize=12, fontweight='bold')\n",
    "plt.xlabel('Группа', fontsize=12, fontweight='bold')\n",
    "plt.xticks(rotation=0, fontsize=12, fontweight='bold')\n",
    "plt.show()"
   ]
  },
  {
   "cell_type": "markdown",
   "id": "GjulgSrlsqUU",
   "metadata": {
    "id": "GjulgSrlsqUU"
   },
   "source": [
    "3\\.2 Проанализируем данные о пользовательской активности по таблице `ab_test_events`:\n",
    "\n",
    "- Оставляем только события, связанные с участвующими в изучаемом тесте пользователями."
   ]
  },
  {
   "cell_type": "code",
   "execution_count": 26,
   "id": "b4f21675",
   "metadata": {},
   "outputs": [],
   "source": [
    "test = eu_test.merge(events, on = 'user_id',how='left')"
   ]
  },
  {
   "cell_type": "markdown",
   "id": "fBZ4DC2xswZJ",
   "metadata": {
    "id": "fBZ4DC2xswZJ"
   },
   "source": [
    "- Определим горизонт анализа: рассчитаем время (лайфтайм) совершения события пользователем после регистрации и оставим только те события, которые были выполнены в течение первых семи дней с момента регистрации;"
   ]
  },
  {
   "cell_type": "code",
   "execution_count": 27,
   "id": "sES4-dKts0Yb",
   "metadata": {
    "id": "sES4-dKts0Yb"
   },
   "outputs": [
    {
     "data": {
      "text/html": [
       "<div>\n",
       "<style scoped>\n",
       "    .dataframe tbody tr th:only-of-type {\n",
       "        vertical-align: middle;\n",
       "    }\n",
       "\n",
       "    .dataframe tbody tr th {\n",
       "        vertical-align: top;\n",
       "    }\n",
       "\n",
       "    .dataframe thead th {\n",
       "        text-align: right;\n",
       "    }\n",
       "</style>\n",
       "<table border=\"1\" class=\"dataframe\">\n",
       "  <thead>\n",
       "    <tr style=\"text-align: right;\">\n",
       "      <th></th>\n",
       "      <th>user_id</th>\n",
       "      <th>group</th>\n",
       "      <th>ab_test</th>\n",
       "      <th>device</th>\n",
       "      <th>event_dt</th>\n",
       "      <th>event_name</th>\n",
       "      <th>details</th>\n",
       "      <th>registration_dt</th>\n",
       "      <th>lifetime</th>\n",
       "    </tr>\n",
       "  </thead>\n",
       "  <tbody>\n",
       "    <tr>\n",
       "      <th>0</th>\n",
       "      <td>0002CE61FF2C4011</td>\n",
       "      <td>B</td>\n",
       "      <td>interface_eu_test</td>\n",
       "      <td>Mac</td>\n",
       "      <td>2020-12-07 04:37:31</td>\n",
       "      <td>registration</td>\n",
       "      <td>-2.38</td>\n",
       "      <td>2020-12-07 04:37:31</td>\n",
       "      <td>0.0</td>\n",
       "    </tr>\n",
       "    <tr>\n",
       "      <th>1</th>\n",
       "      <td>0002CE61FF2C4011</td>\n",
       "      <td>B</td>\n",
       "      <td>interface_eu_test</td>\n",
       "      <td>Mac</td>\n",
       "      <td>2020-12-07 04:37:49</td>\n",
       "      <td>login</td>\n",
       "      <td>NaN</td>\n",
       "      <td>2020-12-07 04:37:31</td>\n",
       "      <td>0.0</td>\n",
       "    </tr>\n",
       "    <tr>\n",
       "      <th>2</th>\n",
       "      <td>0002CE61FF2C4011</td>\n",
       "      <td>B</td>\n",
       "      <td>interface_eu_test</td>\n",
       "      <td>Mac</td>\n",
       "      <td>2020-12-07 04:37:57</td>\n",
       "      <td>login</td>\n",
       "      <td>NaN</td>\n",
       "      <td>2020-12-07 04:37:31</td>\n",
       "      <td>0.0</td>\n",
       "    </tr>\n",
       "    <tr>\n",
       "      <th>3</th>\n",
       "      <td>0002CE61FF2C4011</td>\n",
       "      <td>B</td>\n",
       "      <td>interface_eu_test</td>\n",
       "      <td>Mac</td>\n",
       "      <td>2020-12-07 04:38:54</td>\n",
       "      <td>login</td>\n",
       "      <td>NaN</td>\n",
       "      <td>2020-12-07 04:37:31</td>\n",
       "      <td>0.0</td>\n",
       "    </tr>\n",
       "    <tr>\n",
       "      <th>4</th>\n",
       "      <td>0002CE61FF2C4011</td>\n",
       "      <td>B</td>\n",
       "      <td>interface_eu_test</td>\n",
       "      <td>Mac</td>\n",
       "      <td>2020-12-08 22:15:35</td>\n",
       "      <td>login</td>\n",
       "      <td>NaN</td>\n",
       "      <td>2020-12-07 04:37:31</td>\n",
       "      <td>2.0</td>\n",
       "    </tr>\n",
       "    <tr>\n",
       "      <th>...</th>\n",
       "      <td>...</td>\n",
       "      <td>...</td>\n",
       "      <td>...</td>\n",
       "      <td>...</td>\n",
       "      <td>...</td>\n",
       "      <td>...</td>\n",
       "      <td>...</td>\n",
       "      <td>...</td>\n",
       "      <td>...</td>\n",
       "    </tr>\n",
       "    <tr>\n",
       "      <th>73809</th>\n",
       "      <td>FFEFC0E55C1CCD4F</td>\n",
       "      <td>A</td>\n",
       "      <td>interface_eu_test</td>\n",
       "      <td>PC</td>\n",
       "      <td>2020-12-13 23:52:15</td>\n",
       "      <td>registration</td>\n",
       "      <td>0.0</td>\n",
       "      <td>2020-12-13 23:52:15</td>\n",
       "      <td>0.0</td>\n",
       "    </tr>\n",
       "    <tr>\n",
       "      <th>73810</th>\n",
       "      <td>FFEFC0E55C1CCD4F</td>\n",
       "      <td>A</td>\n",
       "      <td>interface_eu_test</td>\n",
       "      <td>PC</td>\n",
       "      <td>2020-12-13 23:52:22</td>\n",
       "      <td>login</td>\n",
       "      <td>NaN</td>\n",
       "      <td>2020-12-13 23:52:15</td>\n",
       "      <td>0.0</td>\n",
       "    </tr>\n",
       "    <tr>\n",
       "      <th>73812</th>\n",
       "      <td>FFF58BC33966EB51</td>\n",
       "      <td>A</td>\n",
       "      <td>interface_eu_test</td>\n",
       "      <td>Android</td>\n",
       "      <td>2020-12-13 17:37:34</td>\n",
       "      <td>registration</td>\n",
       "      <td>-0.45</td>\n",
       "      <td>2020-12-13 17:37:34</td>\n",
       "      <td>0.0</td>\n",
       "    </tr>\n",
       "    <tr>\n",
       "      <th>73813</th>\n",
       "      <td>FFF58BC33966EB51</td>\n",
       "      <td>A</td>\n",
       "      <td>interface_eu_test</td>\n",
       "      <td>Android</td>\n",
       "      <td>2020-12-13 17:56:02</td>\n",
       "      <td>login</td>\n",
       "      <td>NaN</td>\n",
       "      <td>2020-12-13 17:37:34</td>\n",
       "      <td>0.0</td>\n",
       "    </tr>\n",
       "    <tr>\n",
       "      <th>73814</th>\n",
       "      <td>FFF58BC33966EB51</td>\n",
       "      <td>A</td>\n",
       "      <td>interface_eu_test</td>\n",
       "      <td>Android</td>\n",
       "      <td>2020-12-17 03:21:02</td>\n",
       "      <td>login</td>\n",
       "      <td>NaN</td>\n",
       "      <td>2020-12-13 17:37:34</td>\n",
       "      <td>3.0</td>\n",
       "    </tr>\n",
       "  </tbody>\n",
       "</table>\n",
       "<p>62730 rows × 9 columns</p>\n",
       "</div>"
      ],
      "text/plain": [
       "                user_id group            ab_test   device            event_dt  \\\n",
       "0      0002CE61FF2C4011     B  interface_eu_test      Mac 2020-12-07 04:37:31   \n",
       "1      0002CE61FF2C4011     B  interface_eu_test      Mac 2020-12-07 04:37:49   \n",
       "2      0002CE61FF2C4011     B  interface_eu_test      Mac 2020-12-07 04:37:57   \n",
       "3      0002CE61FF2C4011     B  interface_eu_test      Mac 2020-12-07 04:38:54   \n",
       "4      0002CE61FF2C4011     B  interface_eu_test      Mac 2020-12-08 22:15:35   \n",
       "...                 ...   ...                ...      ...                 ...   \n",
       "73809  FFEFC0E55C1CCD4F     A  interface_eu_test       PC 2020-12-13 23:52:15   \n",
       "73810  FFEFC0E55C1CCD4F     A  interface_eu_test       PC 2020-12-13 23:52:22   \n",
       "73812  FFF58BC33966EB51     A  interface_eu_test  Android 2020-12-13 17:37:34   \n",
       "73813  FFF58BC33966EB51     A  interface_eu_test  Android 2020-12-13 17:56:02   \n",
       "73814  FFF58BC33966EB51     A  interface_eu_test  Android 2020-12-17 03:21:02   \n",
       "\n",
       "         event_name details     registration_dt  lifetime  \n",
       "0      registration   -2.38 2020-12-07 04:37:31       0.0  \n",
       "1             login     NaN 2020-12-07 04:37:31       0.0  \n",
       "2             login     NaN 2020-12-07 04:37:31       0.0  \n",
       "3             login     NaN 2020-12-07 04:37:31       0.0  \n",
       "4             login     NaN 2020-12-07 04:37:31       2.0  \n",
       "...             ...     ...                 ...       ...  \n",
       "73809  registration     0.0 2020-12-13 23:52:15       0.0  \n",
       "73810         login     NaN 2020-12-13 23:52:15       0.0  \n",
       "73812  registration   -0.45 2020-12-13 17:37:34       0.0  \n",
       "73813         login     NaN 2020-12-13 17:37:34       0.0  \n",
       "73814         login     NaN 2020-12-13 17:37:34       3.0  \n",
       "\n",
       "[62730 rows x 9 columns]"
      ]
     },
     "metadata": {},
     "output_type": "display_data"
    },
    {
     "name": "stdout",
     "output_type": "stream",
     "text": [
      "Всего событий в исходных данных: 73815\n",
      "Событий в течение первых 7 дней после регистрации: 62730\n",
      "Уникальных пользователей с событиями: 9963\n",
      "Статистика лайфтайма событий (в днях): count    62730.000000\n",
      "mean         1.268962\n",
      "std          1.773007\n",
      "min          0.000000\n",
      "25%          0.000000\n",
      "50%          0.000000\n",
      "75%          2.000000\n",
      "max          6.000000\n",
      "Name: lifetime, dtype: float64\n",
      "Распределение событий по дням после регистрации:\n"
     ]
    },
    {
     "data": {
      "text/plain": [
       "0    34263\n",
       "1     8159\n",
       "2     6469\n",
       "3     4749\n",
       "4     3645\n",
       "5     2992\n",
       "6     2453\n",
       "Name: lifetime, dtype: int64"
      ]
     },
     "metadata": {},
     "output_type": "display_data"
    }
   ],
   "source": [
    "# Находим дату регистрации для каждого пользователя\n",
    "registration_dates = test[test['event_name'] == 'registration'].groupby('user_id')['event_dt'].min().reset_index()\n",
    "registration_dates.columns = ['user_id', 'registration_dt']\n",
    "\n",
    "# Объединяем даты регистрации с основным DataFrame\n",
    "df_with_reg = test.merge(registration_dates, on='user_id', how='left')\n",
    "\n",
    "# Рассчитываем лайфтайм (время от регистрации до события)\n",
    "df_with_reg['lifetime'] = round((df_with_reg['event_dt'] - df_with_reg['registration_dt']).dt.total_seconds() / (24 * 3600)) # в днях\n",
    "\n",
    "# Фильтруем события первых 7 дней\n",
    "# Учитываем только события после регистрации (lifetime >= 0) и в пределах 7 дней (lifetime < 7)\n",
    "filtered_events = df_with_reg[(df_with_reg['lifetime'] >= 0) & (df_with_reg['lifetime'] < 7)]\n",
    "display(filtered_events)\n",
    "# Проверяем результат\n",
    "print(f\"Всего событий в исходных данных: {len(test)}\")\n",
    "print(f\"Событий в течение первых 7 дней после регистрации: {len(filtered_events)}\")\n",
    "print(f\"Уникальных пользователей с событиями: {filtered_events['user_id'].nunique()}\")\n",
    "\n",
    "if len(filtered_events) > 0:\n",
    "    lifetime_stats = filtered_events['lifetime'].describe()\n",
    "    print(\"Статистика лайфтайма событий (в днях):\", lifetime_stats)    \n",
    "    print(\"Распределение событий по дням после регистрации:\")\n",
    "    day_distribution = filtered_events['lifetime'].astype(int).value_counts().sort_index()\n",
    "    display(day_distribution)"
   ]
  },
  {
   "cell_type": "code",
   "execution_count": 28,
   "id": "9ca8c5d2",
   "metadata": {},
   "outputs": [
    {
     "data": {
      "image/png": "[encoded data removed]",
      "text/plain": [
       "<Figure size 1152x432 with 1 Axes>"
      ]
     },
     "metadata": {
      "needs_background": "light"
     },
     "output_type": "display_data"
    }
   ],
   "source": [
    "#Визуализируем\n",
    "count_users_per_day = filtered_events.groupby(['lifetime','group'])['user_id'].nunique().reset_index()\n",
    "plt.figure(figsize=(16, 6))\n",
    "sns.lineplot(data=count_users_per_day, x='lifetime', y='user_id', hue='group', marker='o')\n",
    "plt.xlabel('Дни после регистрации (лайфтайм)')\n",
    "plt.ylabel('Количество уникальных пользователей')\n",
    "plt.title('Распределение количества пользователей по дням и группам')\n",
    "plt.grid(True)\n",
    "plt.show()"
   ]
  },
  {
   "cell_type": "markdown",
   "id": "7cf1df48",
   "metadata": {},
   "source": [
    "Оценим достаточность выборки для получения статистически значимых результатов A/B-теста. Заданные параметры:\n",
    "\n",
    "- базовый показатель конверсии — 30%,\n",
    "\n",
    "- мощность теста — 80%,\n",
    "\n",
    "- достоверность теста — 95%."
   ]
  },
  {
   "cell_type": "code",
   "execution_count": 29,
   "id": "56bf8144",
   "metadata": {},
   "outputs": [],
   "source": [
    "from statsmodels.stats.power import NormalIndPower\n",
    "from statsmodels.stats.proportion import proportion_effectsize\n",
    "\n",
    "# Задаём параметры\n",
    "alpha = 0.05  # Уровень значимости\n",
    "beta = 0.2  # Ошибка второго рода, часто 1 - мощность\n",
    "power = 1 - beta  # Мощность теста\n",
    "p1 = 0.3  # Базовая конверсия (из условий)\n",
    "p2 = 0.33  # Целевая конверсия (p1 + 0.03)\n",
    "\n",
    "effect_size = proportion_effectsize(p1, p2)"
   ]
  },
  {
   "cell_type": "code",
   "execution_count": 30,
   "id": "7d97b466",
   "metadata": {},
   "outputs": [
    {
     "name": "stdout",
     "output_type": "stream",
     "text": [
      "Необходимый размер выборки для каждой группы: 3761\n",
      "Общий необходимый размер выборки для каждой группы: 7522\n"
     ]
    }
   ],
   "source": [
    "# Инициализируем класс NormalIndPower\n",
    "power_analysis = NormalIndPower()\n",
    "\n",
    "# Рассчитываем размер выборки\n",
    "sample_size = power_analysis.solve_power(\n",
    "    effect_size = effect_size,\n",
    "    power = power,\n",
    "    alpha = alpha,\n",
    "    ratio = 1 # Равномерное распределение выборок\n",
    ")\n",
    "\n",
    "print(f\"Необходимый размер выборки для каждой группы: {int(sample_size)}\")\n",
    "print(f\"Общий необходимый размер выборки для каждой группы: {int(sample_size)*2}\")"
   ]
  },
  {
   "cell_type": "markdown",
   "id": "5a6c1267",
   "metadata": {},
   "source": [
    "Кол-во данных таблицы хватает для проведения a/b теста."
   ]
  },
  {
   "cell_type": "markdown",
   "id": "2563e982",
   "metadata": {},
   "source": [
    "Рассчитаем для каждой группы количество посетителей, сделавших покупку, и общее количество посетителей."
   ]
  },
  {
   "cell_type": "code",
   "execution_count": 31,
   "id": "674857bc",
   "metadata": {},
   "outputs": [
    {
     "name": "stdout",
     "output_type": "stream",
     "text": [
      "Названия событий пользователей =  ['registration' 'login' 'product_page' 'product_cart' 'purchase']\n"
     ]
    }
   ],
   "source": [
    "print(\"Названия событий пользователей = \", filtered_events['event_name'].unique())"
   ]
  },
  {
   "cell_type": "code",
   "execution_count": 32,
   "id": "7ph853Xks4sy",
   "metadata": {
    "id": "7ph853Xks4sy"
   },
   "outputs": [
    {
     "name": "stdout",
     "output_type": "stream",
     "text": [
      "Всего пользователей в контрольной группе:  4952 Только с покупкой:  1342 Конверсия =  0.27\n",
      "Всего пользователей в тестовой группе:  5011 Только с покупкой:  1444 Конверсия =  0.29\n"
     ]
    }
   ],
   "source": [
    "# Найдем пересечения между тестами, после того, как \n",
    "# оставили события, связанные с участвующими в изучаемом тесте пользователями\n",
    "test_A_purchase = filtered_events[(filtered_events['group']=='A') & (filtered_events['event_name']=='purchase')]['user_id'].nunique()\n",
    "test_B_purchase = filtered_events[(filtered_events['group']=='B') & (filtered_events['event_name']=='purchase')]['user_id'].nunique()\n",
    "print(\"Всего пользователей в контрольной группе: \", test_A_count, \"Только с покупкой: \",test_A_purchase, \"Конверсия = \", round(test_A_purchase/test_A_count*1.0,2))\n",
    "print(\"Всего пользователей в тестовой группе: \", test_B_count, \"Только с покупкой: \",test_B_purchase, \"Конверсия = \", round(test_B_purchase/test_B_count*1.0,2))"
   ]
  },
  {
   "cell_type": "markdown",
   "id": "558be0d4",
   "metadata": {},
   "source": [
    "Можно заметить, что в тестовой группе кол-во покупок больше на 2%. Можно предположить, что упрощения интерфейса положительно повлияли на конверсию покупок, но не так сильно, как предполагалось."
   ]
  },
  {
   "cell_type": "markdown",
   "id": "IKZ1Oo3Ws919",
   "metadata": {
    "id": "IKZ1Oo3Ws919"
   },
   "source": [
    "## 4. Проведем оценку результатов A/B-тестирования:"
   ]
  },
  {
   "cell_type": "markdown",
   "id": "dcUdBSmvtC-E",
   "metadata": {
    "id": "dcUdBSmvtC-E"
   },
   "source": [
    "- Проверим изменение конверсии подходящим статистическим тестом, учитывая все этапы проверки гипотез."
   ]
  },
  {
   "cell_type": "markdown",
   "id": "e7fdd2b7",
   "metadata": {},
   "source": [
    "Нулевая гипотеза  𝐻0:\n",
    " \n",
    "Конверсия покупок пользователей не изменилась при упрощении интерфейса.\n",
    "\n",
    "Альтернативная гипотеза  𝐻1:\n",
    " \n",
    "Конверсия покупок пользователей увеличилась при упрощении интерфейса как минимум на три процентных пункта."
   ]
  },
  {
   "cell_type": "code",
   "execution_count": 34,
   "id": "l_KOziBQtL3t",
   "metadata": {
    "id": "l_KOziBQtL3t"
   },
   "outputs": [
    {
     "name": "stdout",
     "output_type": "stream",
     "text": [
      "Предпосылка о достаточном количестве данных выполняется!\n",
      "pvalue=0.0282\n",
      "Нулевая гипотеза не находит подтверждения!\n",
      "Новая версия сайта увеличила конверсию покупок\n"
     ]
    }
   ],
   "source": [
    "from statsmodels.stats.proportion import proportions_ztest\n",
    "n_a,n_b = test_A_count, test_B_count\n",
    "m_a,m_b = test_A_purchase,test_B_purchase\n",
    "p_a,p_b = m_a/n_a,m_b/n_b\n",
    "alpha = 0.05\n",
    "if (p_a*n_a > 10)and((1-p_a)*n_a > 10)and(p_b*n_b > 10)and((1-p_b)*n_b > 10):\n",
    "    print('Предпосылка о достаточном количестве данных выполняется!')\n",
    "else:\n",
    "    print('Предпосылка о достаточном количестве данных НЕ выполняется!')\n",
    "\n",
    "alpha =  0.05\n",
    "\n",
    "stat_ztest, p_value_ztest = proportions_ztest([m_b, m_a],[n_b, n_a], alternative='larger')\n",
    "\n",
    "print(f'pvalue={p_value_ztest:.4f}')\n",
    "\n",
    "if p_value_ztest > alpha:\n",
    "    print('Нулевая гипотеза находит подтверждение!')\n",
    "else:\n",
    "    print('Нулевая гипотеза не находит подтверждения!')\n",
    "\n",
    "print('Новая версия сайта увеличила конверсию покупок')"
   ]
  },
  {
   "cell_type": "markdown",
   "id": "9jkyKOjgtGoc",
   "metadata": {
    "id": "9jkyKOjgtGoc"
   },
   "source": [
    "На основе проведенного анализа результатов A/B-теста можно сделать следующие выводы:\n",
    "\n",
    "1. Корректность проведения теста\n",
    "Тест проводился в соответствии с техническим заданием: пользователи были разделены на контрольную (A) и тестовую (B) группы для теста interface_eu_test.\n",
    "\n",
    "Распределение пользователей по группам было практически равномерным:\n",
    "\n",
    "Группа A: 4952 пользователя,\n",
    "\n",
    "Группа B: 5011 пользователей.\n",
    "Разница между группами составляет всего 1.18%.\n",
    "\n",
    "Пересечений между группами теста не обнаружено: ни один пользователь не участвовал одновременно в обеих группах.\n",
    "\n",
    "Данных достаточно для обеспечения статистической мощности теста: рассчитанный необходимый размер выборки для каждой группы — 3761 пользователь, что меньше фактического количества участников.\n",
    "\n",
    "2. Результаты теста\n",
    "Конверсия в покупку в течение 7 дней после регистрации составила:\n",
    "\n",
    "Группа A (старый интерфейс): 27% (1342 из 4952 пользователей),\n",
    "\n",
    "Группа B (новый интерфейс): 28% (1444 из 5011 пользователей).\n",
    "\n",
    "Абсолютный прирост конверсии в группе B составил 2 процентных пункта (29% - 27% = 2%).\n",
    "\n",
    "3. Проверка гипотезы\n",
    "Нулевая гипотеза (H₀): Упрощение интерфейса не повлияло на конверсию.\n",
    "\n",
    "Альтернативная гипотеза (H₁): Упрощение интерфейса увеличило конверсию как минимум на 3 процентных пункта.\n",
    "\n",
    "Результат статистического теста:\n",
    "\n",
    "P-value = 0.0282 (при уровне значимости α = 0.05).\n",
    "\n",
    "Ожидаемый эффект: увеличение конверсии на 3 процентных пункта.\n",
    "\n",
    "Фактический эффект: увеличение конверсии на 2 процентных пункта.\n",
    "\n",
    "Вывод: Несмотря на статистическую значимость различий, ожидаемый эффект в 3 процентных пункта не достигнут. Новый интерфейс привел к улучшению конверсии, но не к целевым 3%.\n",
    "\n",
    "5. Рекомендации\n",
    "Внедрение нового интерфейса может быть целесообразным, так он показал статистически значимое улучшение конверсии. Однако его влияние оказалось ниже заявленных ожиданий.\n",
    "\n",
    "Рекомендуется дополнительно изучить причины, почему эффект оказался слабее:\n",
    "\n",
    "Возможно, изменения в интерфейсе были недостаточно радикальными.\n",
    "\n",
    "Или требуются дополнительные улучшения (например, упрощение процесса оплаты или навигации)."
   ]
  }
 ],
 "metadata": {
  "ExecuteTimeLog": [
   {
    "duration": 54,
    "start_time": "2025-09-25T10:43:08.055Z"
   },
   {
    "duration": 484,
    "start_time": "2025-09-25T10:43:16.895Z"
   },
   {
    "duration": 48,
    "start_time": "2025-09-25T10:43:21.487Z"
   },
   {
    "duration": 33,
    "start_time": "2025-09-25T10:43:29.734Z"
   },
   {
    "duration": 87,
    "start_time": "2025-09-25T10:44:15.291Z"
   },
   {
    "duration": 16,
    "start_time": "2025-09-25T10:44:16.955Z"
   },
   {
    "duration": 58,
    "start_time": "2025-09-25T12:41:29.503Z"
   },
   {
    "duration": 493,
    "start_time": "2025-09-25T12:41:31.191Z"
   },
   {
    "duration": 20,
    "start_time": "2025-09-25T12:41:32.470Z"
   },
   {
    "duration": 10,
    "start_time": "2025-09-25T12:42:24.329Z"
   },
   {
    "duration": 33,
    "start_time": "2025-09-25T12:43:04.336Z"
   },
   {
    "duration": 10,
    "start_time": "2025-09-25T12:43:28.038Z"
   },
   {
    "duration": 7,
    "start_time": "2025-09-25T12:43:32.897Z"
   },
   {
    "duration": 5,
    "start_time": "2025-09-25T12:43:39.242Z"
   },
   {
    "duration": 18,
    "start_time": "2025-09-25T12:43:53.887Z"
   },
   {
    "duration": 8,
    "start_time": "2025-09-25T12:44:32.229Z"
   },
   {
    "duration": 6,
    "start_time": "2025-09-25T12:44:58.048Z"
   },
   {
    "duration": 18,
    "start_time": "2025-09-25T12:45:23.020Z"
   },
   {
    "duration": 7,
    "start_time": "2025-09-25T12:45:39.394Z"
   },
   {
    "duration": 19,
    "start_time": "2025-09-25T12:45:56.919Z"
   },
   {
    "duration": 5,
    "start_time": "2025-09-25T12:46:43.878Z"
   },
   {
    "duration": 5,
    "start_time": "2025-09-25T12:47:06.740Z"
   },
   {
    "duration": 7,
    "start_time": "2025-09-25T12:48:33.899Z"
   },
   {
    "duration": 545,
    "start_time": "2025-09-25T12:48:50.303Z"
   },
   {
    "duration": 52,
    "start_time": "2025-09-26T07:19:09.753Z"
   },
   {
    "duration": 513,
    "start_time": "2025-09-26T07:19:11.826Z"
   },
   {
    "duration": 31,
    "start_time": "2025-09-26T07:19:13.128Z"
   },
   {
    "duration": 7,
    "start_time": "2025-09-26T07:19:33.898Z"
   },
   {
    "duration": 22,
    "start_time": "2025-09-26T07:19:57.512Z"
   },
   {
    "duration": 16,
    "start_time": "2025-09-26T07:20:07.978Z"
   },
   {
    "duration": 12,
    "start_time": "2025-09-26T07:20:17.451Z"
   },
   {
    "duration": 10,
    "start_time": "2025-09-26T07:21:08.834Z"
   },
   {
    "duration": 37,
    "start_time": "2025-09-26T07:28:40.235Z"
   },
   {
    "duration": 5,
    "start_time": "2025-09-26T07:29:13.839Z"
   },
   {
    "duration": 6,
    "start_time": "2025-09-26T07:29:27.482Z"
   },
   {
    "duration": 91,
    "start_time": "2025-09-26T07:30:31.920Z"
   },
   {
    "duration": 627,
    "start_time": "2025-09-26T07:31:05.500Z"
   },
   {
    "duration": 21,
    "start_time": "2025-09-26T07:37:14.187Z"
   },
   {
    "duration": 64,
    "start_time": "2025-09-26T07:37:22.635Z"
   },
   {
    "duration": 35,
    "start_time": "2025-09-26T07:37:23.294Z"
   },
   {
    "duration": 12,
    "start_time": "2025-09-26T07:37:24.051Z"
   },
   {
    "duration": 18,
    "start_time": "2025-09-26T07:37:40.290Z"
   },
   {
    "duration": 840,
    "start_time": "2025-09-26T07:38:26.381Z"
   },
   {
    "duration": 35,
    "start_time": "2025-09-26T07:38:50.063Z"
   },
   {
    "duration": 23,
    "start_time": "2025-09-26T07:38:57.987Z"
   },
   {
    "duration": 17,
    "start_time": "2025-09-26T07:39:03.288Z"
   },
   {
    "duration": 13,
    "start_time": "2025-09-26T07:42:18.353Z"
   },
   {
    "duration": 16,
    "start_time": "2025-09-26T07:43:07.339Z"
   },
   {
    "duration": 10,
    "start_time": "2025-09-26T07:43:10.490Z"
   },
   {
    "duration": 8,
    "start_time": "2025-09-26T07:43:18.234Z"
   },
   {
    "duration": 19,
    "start_time": "2025-09-26T07:43:24.306Z"
   },
   {
    "duration": 213,
    "start_time": "2025-09-26T07:44:19.664Z"
   },
   {
    "duration": 14,
    "start_time": "2025-09-26T07:44:40.254Z"
   },
   {
    "duration": 18,
    "start_time": "2025-09-26T07:45:27.817Z"
   },
   {
    "duration": 29,
    "start_time": "2025-09-26T07:45:59.655Z"
   },
   {
    "duration": 41,
    "start_time": "2025-09-26T07:46:05.412Z"
   },
   {
    "duration": 25,
    "start_time": "2025-09-26T07:46:09.977Z"
   },
   {
    "duration": 5,
    "start_time": "2025-09-26T07:46:43.237Z"
   },
   {
    "duration": 8,
    "start_time": "2025-09-26T07:46:44.029Z"
   },
   {
    "duration": 6,
    "start_time": "2025-09-26T07:46:44.386Z"
   },
   {
    "duration": 5,
    "start_time": "2025-09-26T07:46:44.634Z"
   },
   {
    "duration": 180,
    "start_time": "2025-09-26T07:46:46.426Z"
   },
   {
    "duration": 467,
    "start_time": "2025-09-26T07:47:20.674Z"
   },
   {
    "duration": 434,
    "start_time": "2025-09-26T07:48:13.503Z"
   },
   {
    "duration": 1099,
    "start_time": "2025-09-26T07:48:28.384Z"
   },
   {
    "duration": 15,
    "start_time": "2025-09-26T07:49:10.929Z"
   },
   {
    "duration": 610,
    "start_time": "2025-09-26T07:49:20.801Z"
   },
   {
    "duration": 11,
    "start_time": "2025-09-26T07:49:35.603Z"
   },
   {
    "duration": 6,
    "start_time": "2025-09-26T07:49:37.934Z"
   },
   {
    "duration": 171,
    "start_time": "2025-09-26T07:49:40.235Z"
   },
   {
    "duration": 927,
    "start_time": "2025-09-26T07:49:42.231Z"
   },
   {
    "duration": 1233,
    "start_time": "2025-09-26T07:50:07.740Z"
   },
   {
    "duration": 1135,
    "start_time": "2025-09-26T07:50:58.138Z"
   },
   {
    "duration": 893,
    "start_time": "2025-09-26T07:51:04.074Z"
   },
   {
    "duration": 252,
    "start_time": "2025-09-26T07:51:09.733Z"
   },
   {
    "duration": 250,
    "start_time": "2025-09-26T07:51:25.926Z"
   },
   {
    "duration": 248,
    "start_time": "2025-09-26T07:51:31.347Z"
   },
   {
    "duration": 327,
    "start_time": "2025-09-26T07:51:45.347Z"
   },
   {
    "duration": 860,
    "start_time": "2025-09-26T07:52:05.199Z"
   },
   {
    "duration": 725,
    "start_time": "2025-09-26T07:52:11.573Z"
   },
   {
    "duration": 677,
    "start_time": "2025-09-26T07:52:27.653Z"
   },
   {
    "duration": 5,
    "start_time": "2025-09-26T07:57:00.835Z"
   },
   {
    "duration": 9,
    "start_time": "2025-09-26T07:57:10.821Z"
   },
   {
    "duration": 8,
    "start_time": "2025-09-26T08:04:23.136Z"
   },
   {
    "duration": 701,
    "start_time": "2025-09-26T08:04:44.530Z"
   },
   {
    "duration": 82,
    "start_time": "2025-09-26T08:04:48.231Z"
   },
   {
    "duration": 56,
    "start_time": "2025-09-26T08:05:00.985Z"
   },
   {
    "duration": 20,
    "start_time": "2025-09-26T08:05:04.612Z"
   },
   {
    "duration": 4,
    "start_time": "2025-09-26T08:05:25.969Z"
   },
   {
    "duration": 5,
    "start_time": "2025-09-26T08:05:36.730Z"
   },
   {
    "duration": 933,
    "start_time": "2025-09-26T08:06:50.269Z"
   },
   {
    "duration": 901,
    "start_time": "2025-09-26T08:06:57.637Z"
   },
   {
    "duration": 10,
    "start_time": "2025-09-26T08:08:04.917Z"
   },
   {
    "duration": 6,
    "start_time": "2025-09-26T08:10:07.362Z"
   },
   {
    "duration": 6,
    "start_time": "2025-09-26T08:10:17.705Z"
   },
   {
    "duration": 14,
    "start_time": "2025-09-26T08:10:42.255Z"
   },
   {
    "duration": 7,
    "start_time": "2025-09-26T08:10:57.297Z"
   },
   {
    "duration": 5,
    "start_time": "2025-09-26T08:12:10.785Z"
   },
   {
    "duration": 55,
    "start_time": "2025-09-26T08:13:15.972Z"
   },
   {
    "duration": 5,
    "start_time": "2025-09-26T08:13:18.333Z"
   },
   {
    "duration": 5,
    "start_time": "2025-09-26T08:13:21.482Z"
   },
   {
    "duration": 7,
    "start_time": "2025-09-26T08:14:26.926Z"
   },
   {
    "duration": 6,
    "start_time": "2025-09-26T08:15:04.580Z"
   },
   {
    "duration": 5,
    "start_time": "2025-09-26T08:16:53.148Z"
   },
   {
    "duration": 882,
    "start_time": "2025-09-26T08:24:36.791Z"
   },
   {
    "duration": 15,
    "start_time": "2025-09-26T08:25:17.453Z"
   },
   {
    "duration": 7,
    "start_time": "2025-09-26T08:27:27.094Z"
   },
   {
    "duration": 10,
    "start_time": "2025-09-26T08:31:54.666Z"
   },
   {
    "duration": 6,
    "start_time": "2025-09-26T08:32:05.067Z"
   },
   {
    "duration": 21,
    "start_time": "2025-09-26T08:32:41.667Z"
   },
   {
    "duration": 14,
    "start_time": "2025-09-26T08:33:21.860Z"
   },
   {
    "duration": 14,
    "start_time": "2025-09-26T08:33:35.296Z"
   },
   {
    "duration": 4,
    "start_time": "2025-09-26T08:41:11.734Z"
   },
   {
    "duration": 15,
    "start_time": "2025-09-26T08:41:20.344Z"
   },
   {
    "duration": 23,
    "start_time": "2025-09-26T08:42:06.408Z"
   },
   {
    "duration": 21,
    "start_time": "2025-09-26T08:42:07.206Z"
   },
   {
    "duration": 15,
    "start_time": "2025-09-26T08:42:07.475Z"
   },
   {
    "duration": 15,
    "start_time": "2025-09-26T08:42:07.665Z"
   },
   {
    "duration": 15,
    "start_time": "2025-09-26T08:42:19.262Z"
   },
   {
    "duration": 7,
    "start_time": "2025-09-26T08:42:45.574Z"
   },
   {
    "duration": 5,
    "start_time": "2025-09-26T08:42:46.093Z"
   },
   {
    "duration": 11,
    "start_time": "2025-09-26T08:42:46.288Z"
   },
   {
    "duration": 5,
    "start_time": "2025-09-26T08:42:46.677Z"
   },
   {
    "duration": 6,
    "start_time": "2025-09-26T08:42:46.872Z"
   },
   {
    "duration": 953,
    "start_time": "2025-09-26T08:42:47.072Z"
   },
   {
    "duration": 14,
    "start_time": "2025-09-26T08:42:48.029Z"
   },
   {
    "duration": 21,
    "start_time": "2025-09-26T08:43:21.307Z"
   },
   {
    "duration": 1375,
    "start_time": "2025-09-26T08:43:38.112Z"
   },
   {
    "duration": 32,
    "start_time": "2025-09-26T08:43:39.489Z"
   },
   {
    "duration": 31,
    "start_time": "2025-09-26T08:43:39.523Z"
   },
   {
    "duration": 5,
    "start_time": "2025-09-26T08:43:39.556Z"
   },
   {
    "duration": 11,
    "start_time": "2025-09-26T08:43:39.640Z"
   },
   {
    "duration": 5,
    "start_time": "2025-09-26T08:43:40.179Z"
   },
   {
    "duration": 9,
    "start_time": "2025-09-26T08:43:40.430Z"
   },
   {
    "duration": 873,
    "start_time": "2025-09-26T08:43:40.696Z"
   },
   {
    "duration": 128,
    "start_time": "2025-09-26T08:43:41.571Z"
   },
   {
    "duration": 67,
    "start_time": "2025-09-26T08:43:54.864Z"
   },
   {
    "duration": 16,
    "start_time": "2025-09-26T08:43:58.564Z"
   },
   {
    "duration": 16,
    "start_time": "2025-09-26T08:44:03.535Z"
   },
   {
    "duration": 12,
    "start_time": "2025-09-26T08:45:36.381Z"
   },
   {
    "duration": 262,
    "start_time": "2025-09-26T08:46:28.413Z"
   },
   {
    "duration": 850,
    "start_time": "2025-09-26T08:46:42.790Z"
   },
   {
    "duration": 12,
    "start_time": "2025-09-26T08:46:54.449Z"
   },
   {
    "duration": 23,
    "start_time": "2025-09-26T08:46:54.903Z"
   },
   {
    "duration": 17,
    "start_time": "2025-09-26T08:46:55.172Z"
   },
   {
    "duration": 13,
    "start_time": "2025-09-26T08:46:55.431Z"
   },
   {
    "duration": 21,
    "start_time": "2025-09-26T08:46:55.710Z"
   },
   {
    "duration": 21,
    "start_time": "2025-09-26T08:46:55.915Z"
   },
   {
    "duration": 8,
    "start_time": "2025-09-26T08:48:50.467Z"
   },
   {
    "duration": 136,
    "start_time": "2025-09-26T08:49:03.689Z"
   },
   {
    "duration": 65,
    "start_time": "2025-09-26T08:49:11.142Z"
   },
   {
    "duration": 69,
    "start_time": "2025-09-26T08:49:15.084Z"
   },
   {
    "duration": 8,
    "start_time": "2025-09-26T08:49:21.152Z"
   },
   {
    "duration": 55,
    "start_time": "2025-09-26T08:49:29.959Z"
   },
   {
    "duration": 11,
    "start_time": "2025-09-26T08:49:37.185Z"
   },
   {
    "duration": 12,
    "start_time": "2025-09-26T08:50:06.791Z"
   },
   {
    "duration": 10,
    "start_time": "2025-09-26T08:50:09.712Z"
   },
   {
    "duration": 10,
    "start_time": "2025-09-26T08:50:16.230Z"
   },
   {
    "duration": 11,
    "start_time": "2025-09-26T08:50:30.964Z"
   },
   {
    "duration": 10,
    "start_time": "2025-09-26T08:51:08.155Z"
   },
   {
    "duration": 12,
    "start_time": "2025-09-26T08:53:35.543Z"
   },
   {
    "duration": 980,
    "start_time": "2025-09-26T08:53:52.671Z"
   },
   {
    "duration": 877,
    "start_time": "2025-09-26T08:54:03.108Z"
   },
   {
    "duration": 13,
    "start_time": "2025-09-26T08:54:07.162Z"
   },
   {
    "duration": 14,
    "start_time": "2025-09-26T08:54:19.406Z"
   },
   {
    "duration": 12,
    "start_time": "2025-09-26T08:54:27.271Z"
   },
   {
    "duration": 1722,
    "start_time": "2025-09-26T08:55:12.859Z"
   },
   {
    "duration": 9,
    "start_time": "2025-09-26T08:55:39.284Z"
   },
   {
    "duration": 32,
    "start_time": "2025-09-26T08:55:49.273Z"
   },
   {
    "duration": 170,
    "start_time": "2025-09-26T08:55:56.705Z"
   },
   {
    "duration": 20,
    "start_time": "2025-09-26T08:57:53.151Z"
   },
   {
    "duration": 140,
    "start_time": "2025-09-26T08:57:59.358Z"
   },
   {
    "duration": 1430,
    "start_time": "2025-09-26T09:58:56.312Z"
   },
   {
    "duration": 1764,
    "start_time": "2025-09-26T09:59:02.529Z"
   },
   {
    "duration": 40,
    "start_time": "2025-09-26T09:59:04.296Z"
   },
   {
    "duration": 150,
    "start_time": "2025-09-26T09:59:04.337Z"
   },
   {
    "duration": 186,
    "start_time": "2025-09-26T09:59:06.991Z"
   },
   {
    "duration": 97,
    "start_time": "2025-09-26T09:59:10.277Z"
   },
   {
    "duration": 79,
    "start_time": "2025-09-26T09:59:18.821Z"
   },
   {
    "duration": 78,
    "start_time": "2025-09-26T09:59:31.805Z"
   },
   {
    "duration": 71,
    "start_time": "2025-09-26T09:59:38.507Z"
   },
   {
    "duration": 64,
    "start_time": "2025-09-26T10:00:31.348Z"
   },
   {
    "duration": 65,
    "start_time": "2025-09-26T10:00:34.546Z"
   },
   {
    "duration": 4,
    "start_time": "2025-09-26T10:02:05.508Z"
   },
   {
    "duration": 5,
    "start_time": "2025-09-26T10:03:01.727Z"
   },
   {
    "duration": 9,
    "start_time": "2025-09-26T10:03:57.463Z"
   },
   {
    "duration": 6,
    "start_time": "2025-09-26T10:04:04.047Z"
   },
   {
    "duration": 5,
    "start_time": "2025-09-26T10:04:09.739Z"
   },
   {
    "duration": 5,
    "start_time": "2025-09-26T10:05:56.467Z"
   },
   {
    "duration": 8,
    "start_time": "2025-09-26T10:06:11.784Z"
   },
   {
    "duration": 16,
    "start_time": "2025-09-26T10:07:10.005Z"
   },
   {
    "duration": 37,
    "start_time": "2025-09-26T10:07:46.801Z"
   },
   {
    "duration": 25,
    "start_time": "2025-09-26T10:08:44.377Z"
   },
   {
    "duration": 159,
    "start_time": "2025-09-26T10:08:48.940Z"
   },
   {
    "duration": 11,
    "start_time": "2025-09-26T10:09:19.901Z"
   },
   {
    "duration": 14,
    "start_time": "2025-09-26T10:09:26.476Z"
   },
   {
    "duration": 23,
    "start_time": "2025-09-26T10:09:41.312Z"
   },
   {
    "duration": 10,
    "start_time": "2025-09-26T10:09:53.931Z"
   },
   {
    "duration": 9,
    "start_time": "2025-09-26T10:10:13.530Z"
   },
   {
    "duration": 12,
    "start_time": "2025-09-26T10:11:48.327Z"
   },
   {
    "duration": 9,
    "start_time": "2025-09-26T10:11:56.831Z"
   },
   {
    "duration": 10,
    "start_time": "2025-09-26T10:12:17.746Z"
   },
   {
    "duration": 10,
    "start_time": "2025-09-26T10:12:28.650Z"
   },
   {
    "duration": 10,
    "start_time": "2025-09-26T10:12:35.595Z"
   },
   {
    "duration": 4,
    "start_time": "2025-09-26T10:14:07.760Z"
   },
   {
    "duration": 10,
    "start_time": "2025-09-26T10:14:08.826Z"
   },
   {
    "duration": 152,
    "start_time": "2025-09-26T10:14:10.075Z"
   },
   {
    "duration": 11,
    "start_time": "2025-09-26T10:14:18.867Z"
   },
   {
    "duration": 251,
    "start_time": "2025-09-26T10:15:26.783Z"
   },
   {
    "duration": 14,
    "start_time": "2025-09-26T10:22:05.814Z"
   },
   {
    "duration": 1349,
    "start_time": "2025-09-26T10:23:17.842Z"
   },
   {
    "duration": 37,
    "start_time": "2025-09-26T10:23:19.194Z"
   },
   {
    "duration": 29,
    "start_time": "2025-09-26T10:23:19.233Z"
   },
   {
    "duration": 5,
    "start_time": "2025-09-26T10:23:19.264Z"
   },
   {
    "duration": 45,
    "start_time": "2025-09-26T10:23:19.271Z"
   },
   {
    "duration": 9,
    "start_time": "2025-09-26T10:23:19.318Z"
   },
   {
    "duration": 22,
    "start_time": "2025-09-26T10:23:19.329Z"
   },
   {
    "duration": 913,
    "start_time": "2025-09-26T10:23:19.353Z"
   },
   {
    "duration": 12,
    "start_time": "2025-09-26T10:23:20.268Z"
   },
   {
    "duration": 1761,
    "start_time": "2025-09-26T10:23:20.282Z"
   },
   {
    "duration": 21,
    "start_time": "2025-09-26T10:23:22.045Z"
   },
   {
    "duration": 7,
    "start_time": "2025-09-26T10:23:22.067Z"
   },
   {
    "duration": 178,
    "start_time": "2025-09-26T10:23:22.075Z"
   },
   {
    "duration": 83,
    "start_time": "2025-09-26T10:23:22.257Z"
   },
   {
    "duration": 4,
    "start_time": "2025-09-26T10:23:22.342Z"
   },
   {
    "duration": 11,
    "start_time": "2025-09-26T10:23:22.348Z"
   },
   {
    "duration": 12,
    "start_time": "2025-09-26T10:23:22.361Z"
   },
   {
    "duration": 195,
    "start_time": "2025-09-26T10:23:22.376Z"
   },
   {
    "duration": 10,
    "start_time": "2025-09-26T10:23:22.573Z"
   },
   {
    "duration": 281,
    "start_time": "2025-09-26T10:23:22.585Z"
   },
   {
    "duration": 3,
    "start_time": "2025-09-26T10:23:22.868Z"
   },
   {
    "duration": 27622,
    "start_time": "2025-09-26T10:23:22.873Z"
   },
   {
    "duration": 57,
    "start_time": "2025-09-26T10:23:50.624Z"
   },
   {
    "duration": 1423,
    "start_time": "2025-09-26T10:23:54.027Z"
   },
   {
    "duration": 1571,
    "start_time": "2025-09-26T10:24:03.536Z"
   },
   {
    "duration": 34,
    "start_time": "2025-09-26T10:24:05.109Z"
   },
   {
    "duration": 45,
    "start_time": "2025-09-26T10:24:05.145Z"
   },
   {
    "duration": 143,
    "start_time": "2025-09-26T10:24:06.357Z"
   },
   {
    "duration": 81,
    "start_time": "2025-09-26T10:24:07.571Z"
   },
   {
    "duration": 4,
    "start_time": "2025-09-26T10:24:08.728Z"
   },
   {
    "duration": 6,
    "start_time": "2025-09-26T10:24:09.224Z"
   },
   {
    "duration": 8,
    "start_time": "2025-09-26T10:24:09.942Z"
   },
   {
    "duration": 171,
    "start_time": "2025-09-26T10:24:10.692Z"
   },
   {
    "duration": 11,
    "start_time": "2025-09-26T10:24:11.196Z"
   },
   {
    "duration": 261,
    "start_time": "2025-09-26T10:24:12.375Z"
   },
   {
    "duration": 3,
    "start_time": "2025-09-26T10:24:13.305Z"
   },
   {
    "duration": 27646,
    "start_time": "2025-09-26T10:24:13.954Z"
   },
   {
    "duration": 25723,
    "start_time": "2025-09-26T10:24:59.398Z"
   },
   {
    "duration": 25670,
    "start_time": "2025-09-26T10:25:46.875Z"
   },
   {
    "duration": 933,
    "start_time": "2025-09-26T10:31:29.502Z"
   },
   {
    "duration": 874,
    "start_time": "2025-09-26T10:32:20.769Z"
   },
   {
    "duration": 824,
    "start_time": "2025-09-26T10:32:24.753Z"
   },
   {
    "duration": 89,
    "start_time": "2025-09-26T10:32:46.184Z"
   },
   {
    "duration": 75,
    "start_time": "2025-09-26T10:33:05.926Z"
   },
   {
    "duration": 93,
    "start_time": "2025-09-26T10:33:58.443Z"
   },
   {
    "duration": 72,
    "start_time": "2025-09-26T10:34:15.038Z"
   },
   {
    "duration": 66,
    "start_time": "2025-09-26T10:34:28.760Z"
   },
   {
    "duration": 59,
    "start_time": "2025-09-26T10:34:44.897Z"
   },
   {
    "duration": 86,
    "start_time": "2025-09-26T10:34:56.374Z"
   },
   {
    "duration": 81,
    "start_time": "2025-09-26T10:35:17.340Z"
   },
   {
    "duration": 84,
    "start_time": "2025-09-26T10:35:24.460Z"
   },
   {
    "duration": 13,
    "start_time": "2025-09-26T10:38:01.194Z"
   },
   {
    "duration": 18,
    "start_time": "2025-09-26T10:38:27.219Z"
   },
   {
    "duration": 16,
    "start_time": "2025-09-26T10:38:37.183Z"
   },
   {
    "duration": 838,
    "start_time": "2025-09-26T10:40:04.536Z"
   },
   {
    "duration": 855,
    "start_time": "2025-09-26T10:40:13.878Z"
   },
   {
    "duration": 104,
    "start_time": "2025-09-26T10:41:16.132Z"
   },
   {
    "duration": 12,
    "start_time": "2025-09-26T10:43:08.041Z"
   },
   {
    "duration": 12,
    "start_time": "2025-09-26T10:43:14.697Z"
   },
   {
    "duration": 455,
    "start_time": "2025-09-26T10:43:21.640Z"
   },
   {
    "duration": 106,
    "start_time": "2025-09-26T10:44:09.340Z"
   },
   {
    "duration": 202,
    "start_time": "2025-09-26T10:44:37.725Z"
   },
   {
    "duration": 203,
    "start_time": "2025-09-26T10:45:08.858Z"
   },
   {
    "duration": 220,
    "start_time": "2025-09-26T10:45:18.972Z"
   },
   {
    "duration": 206,
    "start_time": "2025-09-26T10:47:19.783Z"
   },
   {
    "duration": 40,
    "start_time": "2025-09-26T10:49:01.410Z"
   },
   {
    "duration": 186,
    "start_time": "2025-09-26T10:49:25.985Z"
   },
   {
    "duration": 178,
    "start_time": "2025-09-26T10:49:44.495Z"
   },
   {
    "duration": 259,
    "start_time": "2025-09-26T10:50:07.820Z"
   },
   {
    "duration": 256,
    "start_time": "2025-09-26T10:50:22.708Z"
   },
   {
    "duration": 18,
    "start_time": "2025-09-26T11:40:55.539Z"
   },
   {
    "duration": 18,
    "start_time": "2025-09-26T11:41:42.670Z"
   },
   {
    "duration": 17,
    "start_time": "2025-09-26T11:41:48.583Z"
   },
   {
    "duration": 107,
    "start_time": "2025-09-26T11:55:00.395Z"
   },
   {
    "duration": 101,
    "start_time": "2025-09-26T11:55:19.187Z"
   },
   {
    "duration": 100,
    "start_time": "2025-09-26T12:07:39.127Z"
   },
   {
    "duration": 116,
    "start_time": "2025-09-26T12:07:43.802Z"
   },
   {
    "duration": 253,
    "start_time": "2025-09-26T12:07:44.264Z"
   },
   {
    "duration": 4,
    "start_time": "2025-09-26T12:07:46.184Z"
   },
   {
    "duration": 15,
    "start_time": "2025-09-26T12:07:46.692Z"
   },
   {
    "duration": 16,
    "start_time": "2025-09-26T12:11:17.388Z"
   },
   {
    "duration": 3,
    "start_time": "2025-09-26T12:14:16.250Z"
   },
   {
    "duration": 17,
    "start_time": "2025-09-26T12:14:17.349Z"
   },
   {
    "duration": 9,
    "start_time": "2025-09-26T12:15:25.947Z"
   },
   {
    "duration": 4,
    "start_time": "2025-09-26T12:15:27.555Z"
   },
   {
    "duration": 16,
    "start_time": "2025-09-26T12:15:28.683Z"
   },
   {
    "duration": 20,
    "start_time": "2025-09-26T12:16:05.194Z"
   },
   {
    "duration": 84,
    "start_time": "2025-09-26T12:18:09.943Z"
   },
   {
    "duration": 74,
    "start_time": "2025-09-26T12:18:14.261Z"
   },
   {
    "duration": 28,
    "start_time": "2025-09-26T12:19:25.969Z"
   },
   {
    "duration": 27,
    "start_time": "2025-09-26T12:19:38.747Z"
   },
   {
    "duration": 8,
    "start_time": "2025-09-26T12:20:11.129Z"
   },
   {
    "duration": 8,
    "start_time": "2025-09-26T12:20:42.399Z"
   },
   {
    "duration": 214,
    "start_time": "2025-09-26T12:21:12.410Z"
   },
   {
    "duration": 207,
    "start_time": "2025-09-26T12:21:32.877Z"
   },
   {
    "duration": 231,
    "start_time": "2025-09-26T12:21:52.014Z"
   },
   {
    "duration": 64,
    "start_time": "2025-09-26T12:22:00.703Z"
   },
   {
    "duration": 206,
    "start_time": "2025-09-26T12:22:08.569Z"
   },
   {
    "duration": 29,
    "start_time": "2025-09-26T12:23:04.533Z"
   },
   {
    "duration": 1295,
    "start_time": "2025-09-26T12:35:47.509Z"
   },
   {
    "duration": 29,
    "start_time": "2025-09-26T12:35:48.806Z"
   },
   {
    "duration": 32,
    "start_time": "2025-09-26T12:35:48.837Z"
   },
   {
    "duration": 6,
    "start_time": "2025-09-26T12:35:48.870Z"
   },
   {
    "duration": 39,
    "start_time": "2025-09-26T12:35:48.878Z"
   },
   {
    "duration": 5,
    "start_time": "2025-09-26T12:35:48.919Z"
   },
   {
    "duration": 11,
    "start_time": "2025-09-26T12:35:48.925Z"
   },
   {
    "duration": 851,
    "start_time": "2025-09-26T12:35:48.938Z"
   },
   {
    "duration": 12,
    "start_time": "2025-09-26T12:35:49.791Z"
   },
   {
    "duration": 1647,
    "start_time": "2025-09-26T12:35:49.804Z"
   },
   {
    "duration": 26,
    "start_time": "2025-09-26T12:35:51.453Z"
   },
   {
    "duration": 6,
    "start_time": "2025-09-26T12:35:51.481Z"
   },
   {
    "duration": 155,
    "start_time": "2025-09-26T12:35:51.489Z"
   },
   {
    "duration": 78,
    "start_time": "2025-09-26T12:35:51.647Z"
   },
   {
    "duration": 55,
    "start_time": "2025-09-26T12:35:51.727Z"
   },
   {
    "duration": 27,
    "start_time": "2025-09-26T12:35:51.784Z"
   },
   {
    "duration": 15,
    "start_time": "2025-09-26T12:35:51.813Z"
   },
   {
    "duration": 146,
    "start_time": "2025-09-26T12:35:51.830Z"
   },
   {
    "duration": 10,
    "start_time": "2025-09-26T12:35:51.978Z"
   },
   {
    "duration": 260,
    "start_time": "2025-09-26T12:35:51.990Z"
   },
   {
    "duration": 120,
    "start_time": "2025-09-26T12:35:52.252Z"
   },
   {
    "duration": 279,
    "start_time": "2025-09-26T12:35:52.374Z"
   },
   {
    "duration": 13,
    "start_time": "2025-09-26T12:35:52.655Z"
   },
   {
    "duration": 34,
    "start_time": "2025-09-26T12:35:52.670Z"
   },
   {
    "duration": 8,
    "start_time": "2025-09-26T12:35:52.714Z"
   },
   {
    "duration": 52,
    "start_time": "2025-09-26T12:35:52.724Z"
   },
   {
    "duration": 33,
    "start_time": "2025-09-26T12:36:03.372Z"
   },
   {
    "duration": 27,
    "start_time": "2025-09-26T12:36:33.420Z"
   },
   {
    "duration": 27,
    "start_time": "2025-09-26T12:38:20.254Z"
   },
   {
    "duration": 27,
    "start_time": "2025-09-26T12:38:44.452Z"
   },
   {
    "duration": 28,
    "start_time": "2025-09-26T12:38:57.124Z"
   },
   {
    "duration": 117,
    "start_time": "2025-09-26T13:37:27.476Z"
   },
   {
    "duration": 7,
    "start_time": "2025-09-26T13:37:38.597Z"
   },
   {
    "duration": 8,
    "start_time": "2025-09-26T13:38:51.256Z"
   },
   {
    "duration": 62,
    "start_time": "2025-09-26T13:50:59.728Z"
   },
   {
    "duration": 48,
    "start_time": "2025-09-26T13:51:04.204Z"
   },
   {
    "duration": 26,
    "start_time": "2025-09-26T13:51:35.980Z"
   },
   {
    "duration": 80,
    "start_time": "2025-09-26T13:52:31.684Z"
   },
   {
    "duration": 42,
    "start_time": "2025-09-26T13:52:33.934Z"
   },
   {
    "duration": 30,
    "start_time": "2025-09-26T13:52:56.500Z"
   },
   {
    "duration": 30,
    "start_time": "2025-09-26T13:53:50.101Z"
   },
   {
    "duration": 28,
    "start_time": "2025-09-26T13:53:58.818Z"
   },
   {
    "duration": 29,
    "start_time": "2025-09-26T13:54:07.708Z"
   },
   {
    "duration": 29,
    "start_time": "2025-09-26T13:54:16.596Z"
   },
   {
    "duration": 12,
    "start_time": "2025-09-26T13:56:25.877Z"
   },
   {
    "duration": 10,
    "start_time": "2025-09-26T13:56:40.764Z"
   },
   {
    "duration": 13,
    "start_time": "2025-09-26T13:56:58.668Z"
   },
   {
    "duration": 11,
    "start_time": "2025-09-26T13:57:06.645Z"
   },
   {
    "duration": 10,
    "start_time": "2025-09-26T13:57:17.349Z"
   },
   {
    "duration": 7,
    "start_time": "2025-09-26T13:58:45.646Z"
   },
   {
    "duration": 7,
    "start_time": "2025-09-26T13:58:48.320Z"
   },
   {
    "duration": 13,
    "start_time": "2025-09-26T13:59:48.430Z"
   },
   {
    "duration": 13,
    "start_time": "2025-09-26T14:00:53.258Z"
   },
   {
    "duration": 13,
    "start_time": "2025-09-26T14:05:02.235Z"
   },
   {
    "duration": 13,
    "start_time": "2025-09-26T14:06:19.211Z"
   },
   {
    "duration": 13,
    "start_time": "2025-09-26T14:07:13.877Z"
   },
   {
    "duration": 928,
    "start_time": "2025-09-26T14:11:36.827Z"
   },
   {
    "duration": 779,
    "start_time": "2025-09-26T14:12:13.418Z"
   },
   {
    "duration": 823,
    "start_time": "2025-09-26T14:13:13.983Z"
   },
   {
    "duration": 55,
    "start_time": "2025-09-26T14:15:58.882Z"
   },
   {
    "duration": 903,
    "start_time": "2025-09-26T14:16:13.381Z"
   },
   {
    "duration": 1271,
    "start_time": "2025-09-26T14:30:18.831Z"
   },
   {
    "duration": 28,
    "start_time": "2025-09-26T14:30:20.104Z"
   },
   {
    "duration": 29,
    "start_time": "2025-09-26T14:30:20.134Z"
   },
   {
    "duration": 5,
    "start_time": "2025-09-26T14:30:20.166Z"
   },
   {
    "duration": 46,
    "start_time": "2025-09-26T14:30:20.173Z"
   },
   {
    "duration": 5,
    "start_time": "2025-09-26T14:30:20.221Z"
   },
   {
    "duration": 16,
    "start_time": "2025-09-26T14:30:20.228Z"
   },
   {
    "duration": 852,
    "start_time": "2025-09-26T14:30:20.245Z"
   },
   {
    "duration": 22,
    "start_time": "2025-09-26T14:30:21.098Z"
   },
   {
    "duration": 1619,
    "start_time": "2025-09-26T14:30:21.122Z"
   },
   {
    "duration": 21,
    "start_time": "2025-09-26T14:30:22.743Z"
   },
   {
    "duration": 16,
    "start_time": "2025-09-26T14:30:22.765Z"
   },
   {
    "duration": 155,
    "start_time": "2025-09-26T14:30:22.783Z"
   },
   {
    "duration": 77,
    "start_time": "2025-09-26T14:30:22.939Z"
   },
   {
    "duration": 4,
    "start_time": "2025-09-26T14:30:23.018Z"
   },
   {
    "duration": 17,
    "start_time": "2025-09-26T14:30:23.023Z"
   },
   {
    "duration": 33,
    "start_time": "2025-09-26T14:30:23.042Z"
   },
   {
    "duration": 149,
    "start_time": "2025-09-26T14:30:23.077Z"
   },
   {
    "duration": 10,
    "start_time": "2025-09-26T14:30:23.228Z"
   },
   {
    "duration": 287,
    "start_time": "2025-09-26T14:30:23.240Z"
   },
   {
    "duration": 117,
    "start_time": "2025-09-26T14:30:23.528Z"
   },
   {
    "duration": 268,
    "start_time": "2025-09-26T14:30:23.647Z"
   },
   {
    "duration": 13,
    "start_time": "2025-09-26T14:30:23.917Z"
   },
   {
    "duration": 63,
    "start_time": "2025-09-26T14:30:23.932Z"
   },
   {
    "duration": 8,
    "start_time": "2025-09-26T14:30:23.997Z"
   },
   {
    "duration": 29,
    "start_time": "2025-09-26T14:30:24.006Z"
   },
   {
    "duration": 7,
    "start_time": "2025-09-26T14:30:24.036Z"
   },
   {
    "duration": 134,
    "start_time": "2025-09-26T14:30:47.195Z"
   },
   {
    "duration": 67,
    "start_time": "2025-09-26T14:30:48.702Z"
   },
   {
    "duration": 9,
    "start_time": "2025-09-26T14:32:35.929Z"
   },
   {
    "duration": 9,
    "start_time": "2025-09-26T14:32:50.151Z"
   },
   {
    "duration": 10,
    "start_time": "2025-09-26T14:32:55.535Z"
   },
   {
    "duration": 252,
    "start_time": "2025-09-26T14:40:03.195Z"
   },
   {
    "duration": 1244,
    "start_time": "2025-09-26T20:47:03.055Z"
   },
   {
    "duration": 29,
    "start_time": "2025-09-26T20:47:04.301Z"
   },
   {
    "duration": 25,
    "start_time": "2025-09-26T20:47:04.332Z"
   },
   {
    "duration": 4,
    "start_time": "2025-09-26T20:47:04.359Z"
   },
   {
    "duration": 11,
    "start_time": "2025-09-26T20:47:04.365Z"
   },
   {
    "duration": 37,
    "start_time": "2025-09-26T20:47:04.378Z"
   },
   {
    "duration": 19,
    "start_time": "2025-09-26T20:47:04.417Z"
   },
   {
    "duration": 890,
    "start_time": "2025-09-26T20:47:04.437Z"
   },
   {
    "duration": 17,
    "start_time": "2025-09-26T20:47:05.329Z"
   },
   {
    "duration": 1766,
    "start_time": "2025-09-26T20:47:05.348Z"
   },
   {
    "duration": 19,
    "start_time": "2025-09-26T20:47:07.116Z"
   },
   {
    "duration": 152,
    "start_time": "2025-09-26T20:47:07.136Z"
   },
   {
    "duration": 84,
    "start_time": "2025-09-26T20:47:07.289Z"
   },
   {
    "duration": 99,
    "start_time": "2025-09-26T20:47:07.375Z"
   },
   {
    "duration": 31,
    "start_time": "2025-09-26T20:47:07.476Z"
   },
   {
    "duration": 33,
    "start_time": "2025-09-26T20:47:07.509Z"
   },
   {
    "duration": 186,
    "start_time": "2025-09-26T20:47:07.545Z"
   },
   {
    "duration": 46,
    "start_time": "2025-09-26T20:47:07.733Z"
   },
   {
    "duration": 262,
    "start_time": "2025-09-26T20:47:07.781Z"
   },
   {
    "duration": 100,
    "start_time": "2025-09-26T20:47:08.045Z"
   },
   {
    "duration": 258,
    "start_time": "2025-09-26T20:47:08.146Z"
   },
   {
    "duration": 15,
    "start_time": "2025-09-26T20:47:08.406Z"
   },
   {
    "duration": 52,
    "start_time": "2025-09-26T20:47:08.423Z"
   },
   {
    "duration": 12,
    "start_time": "2025-09-26T20:47:08.476Z"
   },
   {
    "duration": 29,
    "start_time": "2025-09-26T20:47:08.490Z"
   },
   {
    "duration": 18,
    "start_time": "2025-09-26T20:47:08.521Z"
   },
   {
    "duration": 48,
    "start_time": "2025-09-26T21:24:38.454Z"
   },
   {
    "duration": 1372,
    "start_time": "2025-09-26T21:24:40.547Z"
   },
   {
    "duration": 111,
    "start_time": "2025-09-26T21:24:42.513Z"
   },
   {
    "duration": 70,
    "start_time": "2025-09-26T21:29:31.365Z"
   },
   {
    "duration": 1722,
    "start_time": "2025-09-26T21:29:39.423Z"
   },
   {
    "duration": 32,
    "start_time": "2025-09-26T21:29:41.147Z"
   },
   {
    "duration": 142,
    "start_time": "2025-09-26T21:29:41.181Z"
   },
   {
    "duration": 75,
    "start_time": "2025-09-26T21:29:41.325Z"
   },
   {
    "duration": 5,
    "start_time": "2025-09-26T21:29:41.401Z"
   },
   {
    "duration": 6,
    "start_time": "2025-09-26T21:29:41.408Z"
   },
   {
    "duration": 9,
    "start_time": "2025-09-26T21:29:41.678Z"
   },
   {
    "duration": 152,
    "start_time": "2025-09-26T21:29:41.874Z"
   },
   {
    "duration": 10,
    "start_time": "2025-09-26T21:29:42.089Z"
   },
   {
    "duration": 240,
    "start_time": "2025-09-26T21:29:42.728Z"
   },
   {
    "duration": 119,
    "start_time": "2025-09-26T21:29:43.513Z"
   },
   {
    "duration": 240,
    "start_time": "2025-09-26T21:29:43.739Z"
   },
   {
    "duration": 12,
    "start_time": "2025-09-26T21:29:44.290Z"
   },
   {
    "duration": 17,
    "start_time": "2025-09-26T21:29:44.507Z"
   },
   {
    "duration": 7,
    "start_time": "2025-09-26T21:29:45.278Z"
   },
   {
    "duration": 10,
    "start_time": "2025-09-26T21:29:45.474Z"
   },
   {
    "duration": 28,
    "start_time": "2025-09-26T21:29:45.659Z"
   },
   {
    "duration": 9,
    "start_time": "2025-09-26T21:29:55.241Z"
   },
   {
    "duration": 9,
    "start_time": "2025-09-26T21:30:01.810Z"
   },
   {
    "duration": 10,
    "start_time": "2025-09-26T21:31:34.479Z"
   },
   {
    "duration": 1165,
    "start_time": "2025-09-26T21:31:38.995Z"
   },
   {
    "duration": 62,
    "start_time": "2025-09-26T21:31:40.162Z"
   },
   {
    "duration": 29,
    "start_time": "2025-09-26T21:31:40.226Z"
   },
   {
    "duration": 26,
    "start_time": "2025-09-26T21:31:40.256Z"
   },
   {
    "duration": 5,
    "start_time": "2025-09-26T21:31:40.285Z"
   },
   {
    "duration": 8,
    "start_time": "2025-09-26T21:31:40.292Z"
   },
   {
    "duration": 5,
    "start_time": "2025-09-26T21:31:40.302Z"
   },
   {
    "duration": 49,
    "start_time": "2025-09-26T21:31:40.309Z"
   },
   {
    "duration": 875,
    "start_time": "2025-09-26T21:31:40.360Z"
   },
   {
    "duration": 25,
    "start_time": "2025-09-26T21:31:41.236Z"
   },
   {
    "duration": 1534,
    "start_time": "2025-09-26T21:31:41.263Z"
   },
   {
    "duration": 20,
    "start_time": "2025-09-26T21:31:42.799Z"
   },
   {
    "duration": 150,
    "start_time": "2025-09-26T21:31:42.821Z"
   },
   {
    "duration": 66,
    "start_time": "2025-09-26T21:31:42.974Z"
   },
   {
    "duration": 16,
    "start_time": "2025-09-26T21:31:43.042Z"
   },
   {
    "duration": 128,
    "start_time": "2025-09-26T21:31:43.060Z"
   },
   {
    "duration": 0,
    "start_time": "2025-09-26T21:31:43.190Z"
   },
   {
    "duration": 0,
    "start_time": "2025-09-26T21:31:43.191Z"
   },
   {
    "duration": 0,
    "start_time": "2025-09-26T21:31:43.192Z"
   },
   {
    "duration": 0,
    "start_time": "2025-09-26T21:31:43.193Z"
   },
   {
    "duration": 0,
    "start_time": "2025-09-26T21:31:43.194Z"
   },
   {
    "duration": 0,
    "start_time": "2025-09-26T21:31:43.195Z"
   },
   {
    "duration": 0,
    "start_time": "2025-09-26T21:31:43.197Z"
   },
   {
    "duration": 0,
    "start_time": "2025-09-26T21:31:43.197Z"
   },
   {
    "duration": 0,
    "start_time": "2025-09-26T21:31:43.199Z"
   },
   {
    "duration": 0,
    "start_time": "2025-09-26T21:31:43.200Z"
   },
   {
    "duration": 0,
    "start_time": "2025-09-26T21:31:43.201Z"
   },
   {
    "duration": 0,
    "start_time": "2025-09-26T21:31:43.201Z"
   },
   {
    "duration": 0,
    "start_time": "2025-09-26T21:31:43.203Z"
   },
   {
    "duration": 9,
    "start_time": "2025-09-26T21:31:49.379Z"
   },
   {
    "duration": 3,
    "start_time": "2025-09-26T21:31:56.860Z"
   },
   {
    "duration": 51,
    "start_time": "2025-09-26T21:31:57.056Z"
   },
   {
    "duration": 24,
    "start_time": "2025-09-26T21:31:57.608Z"
   },
   {
    "duration": 27,
    "start_time": "2025-09-26T21:31:57.994Z"
   },
   {
    "duration": 6,
    "start_time": "2025-09-26T21:31:58.377Z"
   },
   {
    "duration": 13,
    "start_time": "2025-09-26T21:31:58.555Z"
   },
   {
    "duration": 6,
    "start_time": "2025-09-26T21:31:58.722Z"
   },
   {
    "duration": 11,
    "start_time": "2025-09-26T21:31:58.907Z"
   },
   {
    "duration": 820,
    "start_time": "2025-09-26T21:31:59.090Z"
   },
   {
    "duration": 13,
    "start_time": "2025-09-26T21:32:00.104Z"
   },
   {
    "duration": 10,
    "start_time": "2025-09-26T21:32:17.311Z"
   },
   {
    "duration": 11,
    "start_time": "2025-09-26T21:32:36.623Z"
   },
   {
    "duration": 1315,
    "start_time": "2025-09-26T21:32:44.055Z"
   },
   {
    "duration": 10,
    "start_time": "2025-09-26T21:34:37.407Z"
   },
   {
    "duration": 247,
    "start_time": "2025-09-26T21:34:40.504Z"
   },
   {
    "duration": 50,
    "start_time": "2025-09-26T21:34:41.666Z"
   },
   {
    "duration": 11,
    "start_time": "2025-09-26T21:35:08.693Z"
   },
   {
    "duration": 29,
    "start_time": "2025-09-26T21:36:18.743Z"
   },
   {
    "duration": 38,
    "start_time": "2025-09-26T21:36:26.643Z"
   },
   {
    "duration": 36,
    "start_time": "2025-09-26T21:36:46.727Z"
   },
   {
    "duration": 33,
    "start_time": "2025-09-26T21:36:48.244Z"
   },
   {
    "duration": 34,
    "start_time": "2025-09-26T21:37:34.860Z"
   },
   {
    "duration": 34,
    "start_time": "2025-09-26T21:37:37.240Z"
   },
   {
    "duration": 34,
    "start_time": "2025-09-26T21:37:53.113Z"
   },
   {
    "duration": 11,
    "start_time": "2025-09-26T21:38:17.820Z"
   },
   {
    "duration": 34,
    "start_time": "2025-09-26T21:38:23.345Z"
   },
   {
    "duration": 35,
    "start_time": "2025-09-26T21:38:25.672Z"
   },
   {
    "duration": 33,
    "start_time": "2025-09-26T21:38:26.173Z"
   },
   {
    "duration": 5,
    "start_time": "2025-09-26T21:38:26.670Z"
   },
   {
    "duration": 34,
    "start_time": "2025-09-26T21:38:30.859Z"
   },
   {
    "duration": 36,
    "start_time": "2025-09-26T21:38:31.308Z"
   },
   {
    "duration": 5,
    "start_time": "2025-09-26T21:38:35.158Z"
   },
   {
    "duration": 9,
    "start_time": "2025-09-26T21:38:36.042Z"
   },
   {
    "duration": 148,
    "start_time": "2025-09-26T21:38:36.525Z"
   },
   {
    "duration": 229,
    "start_time": "2025-09-26T21:38:37.671Z"
   },
   {
    "duration": 206,
    "start_time": "2025-09-26T21:38:38.407Z"
   },
   {
    "duration": 255,
    "start_time": "2025-09-26T21:38:38.855Z"
   },
   {
    "duration": 32,
    "start_time": "2025-09-26T21:38:39.692Z"
   },
   {
    "duration": 14,
    "start_time": "2025-09-26T21:38:39.921Z"
   },
   {
    "duration": 8,
    "start_time": "2025-09-26T21:38:41.376Z"
   },
   {
    "duration": 11,
    "start_time": "2025-09-26T21:38:41.570Z"
   },
   {
    "duration": 9,
    "start_time": "2025-09-26T21:38:42.075Z"
   },
   {
    "duration": 27,
    "start_time": "2025-09-26T21:38:42.559Z"
   },
   {
    "duration": 34,
    "start_time": "2025-09-26T21:38:56.609Z"
   },
   {
    "duration": 35,
    "start_time": "2025-09-26T21:38:57.375Z"
   },
   {
    "duration": 1274,
    "start_time": "2025-09-26T21:39:01.558Z"
   },
   {
    "duration": 64,
    "start_time": "2025-09-26T21:39:02.834Z"
   },
   {
    "duration": 30,
    "start_time": "2025-09-26T21:39:02.899Z"
   },
   {
    "duration": 31,
    "start_time": "2025-09-26T21:39:02.931Z"
   },
   {
    "duration": 7,
    "start_time": "2025-09-26T21:39:02.964Z"
   },
   {
    "duration": 13,
    "start_time": "2025-09-26T21:39:02.974Z"
   },
   {
    "duration": 6,
    "start_time": "2025-09-26T21:39:02.989Z"
   },
   {
    "duration": 11,
    "start_time": "2025-09-26T21:39:02.997Z"
   },
   {
    "duration": 862,
    "start_time": "2025-09-26T21:39:03.009Z"
   },
   {
    "duration": 12,
    "start_time": "2025-09-26T21:39:03.874Z"
   },
   {
    "duration": 1727,
    "start_time": "2025-09-26T21:39:03.888Z"
   },
   {
    "duration": 20,
    "start_time": "2025-09-26T21:39:05.617Z"
   },
   {
    "duration": 147,
    "start_time": "2025-09-26T21:39:05.638Z"
   },
   {
    "duration": 78,
    "start_time": "2025-09-26T21:39:05.787Z"
   },
   {
    "duration": 4,
    "start_time": "2025-09-26T21:39:05.867Z"
   },
   {
    "duration": 270,
    "start_time": "2025-09-26T21:39:05.873Z"
   },
   {
    "duration": 41,
    "start_time": "2025-09-26T21:39:06.145Z"
   },
   {
    "duration": 33,
    "start_time": "2025-09-26T21:39:06.187Z"
   },
   {
    "duration": 5,
    "start_time": "2025-09-26T21:39:06.222Z"
   },
   {
    "duration": 34,
    "start_time": "2025-09-26T21:39:06.229Z"
   },
   {
    "duration": 152,
    "start_time": "2025-09-26T21:39:06.265Z"
   },
   {
    "duration": 205,
    "start_time": "2025-09-26T21:39:06.419Z"
   },
   {
    "duration": 109,
    "start_time": "2025-09-26T21:39:06.626Z"
   },
   {
    "duration": 263,
    "start_time": "2025-09-26T21:39:06.737Z"
   },
   {
    "duration": 13,
    "start_time": "2025-09-26T21:39:07.001Z"
   },
   {
    "duration": 15,
    "start_time": "2025-09-26T21:39:07.015Z"
   },
   {
    "duration": 31,
    "start_time": "2025-09-26T21:39:07.032Z"
   },
   {
    "duration": 11,
    "start_time": "2025-09-26T21:39:07.066Z"
   },
   {
    "duration": 9,
    "start_time": "2025-09-26T21:39:07.079Z"
   },
   {
    "duration": 30,
    "start_time": "2025-09-26T21:39:07.090Z"
   },
   {
    "duration": 38,
    "start_time": "2025-09-26T21:39:07.122Z"
   },
   {
    "duration": 10,
    "start_time": "2025-09-26T21:39:07.162Z"
   },
   {
    "duration": 44,
    "start_time": "2025-09-26T21:39:07.484Z"
   },
   {
    "duration": 25,
    "start_time": "2025-09-26T21:39:08.619Z"
   },
   {
    "duration": 27,
    "start_time": "2025-09-26T21:39:09.038Z"
   },
   {
    "duration": 6,
    "start_time": "2025-09-26T21:39:09.454Z"
   },
   {
    "duration": 9,
    "start_time": "2025-09-26T21:39:09.617Z"
   },
   {
    "duration": 6,
    "start_time": "2025-09-26T21:39:09.818Z"
   },
   {
    "duration": 11,
    "start_time": "2025-09-26T21:39:10.001Z"
   },
   {
    "duration": 917,
    "start_time": "2025-09-26T21:39:10.184Z"
   },
   {
    "duration": 12,
    "start_time": "2025-09-26T21:39:11.138Z"
   },
   {
    "duration": 1598,
    "start_time": "2025-09-26T21:39:13.488Z"
   },
   {
    "duration": 26,
    "start_time": "2025-09-26T21:39:15.090Z"
   },
   {
    "duration": 152,
    "start_time": "2025-09-26T21:39:15.118Z"
   },
   {
    "duration": 69,
    "start_time": "2025-09-26T21:39:15.273Z"
   },
   {
    "duration": 5,
    "start_time": "2025-09-26T21:39:15.358Z"
   },
   {
    "duration": 209,
    "start_time": "2025-09-26T21:39:15.364Z"
   },
   {
    "duration": 39,
    "start_time": "2025-09-26T21:39:15.576Z"
   },
   {
    "duration": 50,
    "start_time": "2025-09-26T21:39:15.617Z"
   },
   {
    "duration": 6,
    "start_time": "2025-09-26T21:39:15.800Z"
   },
   {
    "duration": 34,
    "start_time": "2025-09-26T21:39:37.267Z"
   },
   {
    "duration": 35,
    "start_time": "2025-09-26T21:39:40.335Z"
   },
   {
    "duration": 6,
    "start_time": "2025-09-26T21:39:40.601Z"
   },
   {
    "duration": 10,
    "start_time": "2025-09-26T21:39:41.122Z"
   },
   {
    "duration": 129,
    "start_time": "2025-09-26T21:39:41.335Z"
   },
   {
    "duration": 184,
    "start_time": "2025-09-26T21:39:42.271Z"
   },
   {
    "duration": 96,
    "start_time": "2025-09-26T21:39:42.703Z"
   },
   {
    "duration": 253,
    "start_time": "2025-09-26T21:39:42.933Z"
   },
   {
    "duration": 3,
    "start_time": "2025-09-26T21:39:43.772Z"
   },
   {
    "duration": 15,
    "start_time": "2025-09-26T21:39:44.155Z"
   },
   {
    "duration": 8,
    "start_time": "2025-09-26T21:39:45.650Z"
   },
   {
    "duration": 12,
    "start_time": "2025-09-26T21:39:45.986Z"
   },
   {
    "duration": 11,
    "start_time": "2025-09-26T21:39:46.772Z"
   },
   {
    "duration": 11,
    "start_time": "2025-09-26T21:39:55.350Z"
   },
   {
    "duration": 10,
    "start_time": "2025-09-26T21:40:17.530Z"
   },
   {
    "duration": 10,
    "start_time": "2025-09-26T21:40:24.834Z"
   },
   {
    "duration": 29,
    "start_time": "2025-09-26T21:40:28.057Z"
   },
   {
    "duration": 29,
    "start_time": "2025-09-26T21:40:30.538Z"
   },
   {
    "duration": 8,
    "start_time": "2025-09-26T21:40:32.789Z"
   },
   {
    "duration": 188,
    "start_time": "2025-09-26T21:41:03.945Z"
   },
   {
    "duration": 40,
    "start_time": "2025-09-26T21:41:29.253Z"
   },
   {
    "duration": 12,
    "start_time": "2025-09-26T21:43:28.710Z"
   },
   {
    "duration": 27,
    "start_time": "2025-09-26T21:43:41.805Z"
   },
   {
    "duration": 11,
    "start_time": "2025-09-26T21:44:00.655Z"
   },
   {
    "duration": 10,
    "start_time": "2025-09-26T21:44:02.124Z"
   },
   {
    "duration": 107,
    "start_time": "2025-09-26T21:45:08.642Z"
   },
   {
    "duration": 3,
    "start_time": "2025-09-26T21:45:26.933Z"
   },
   {
    "duration": 14,
    "start_time": "2025-09-26T21:45:31.605Z"
   },
   {
    "duration": 13,
    "start_time": "2025-09-26T21:45:43.423Z"
   },
   {
    "duration": 14,
    "start_time": "2025-09-26T21:45:48.024Z"
   },
   {
    "duration": 6,
    "start_time": "2025-09-26T21:49:46.551Z"
   },
   {
    "duration": 13,
    "start_time": "2025-09-26T21:50:33.862Z"
   },
   {
    "duration": 13,
    "start_time": "2025-09-26T21:50:38.458Z"
   },
   {
    "duration": 12,
    "start_time": "2025-09-26T21:50:42.302Z"
   },
   {
    "duration": 7,
    "start_time": "2025-09-26T21:50:49.501Z"
   },
   {
    "duration": 14,
    "start_time": "2025-09-26T21:50:51.778Z"
   },
   {
    "duration": 15,
    "start_time": "2025-09-26T21:51:07.188Z"
   },
   {
    "duration": 5,
    "start_time": "2025-09-26T21:51:09.015Z"
   },
   {
    "duration": 5,
    "start_time": "2025-09-26T21:51:23.475Z"
   },
   {
    "duration": 11,
    "start_time": "2025-09-26T21:51:26.374Z"
   },
   {
    "duration": 1243,
    "start_time": "2025-09-26T21:52:00.615Z"
   },
   {
    "duration": 61,
    "start_time": "2025-09-26T21:52:01.860Z"
   },
   {
    "duration": 29,
    "start_time": "2025-09-26T21:52:01.923Z"
   },
   {
    "duration": 26,
    "start_time": "2025-09-26T21:52:01.954Z"
   },
   {
    "duration": 6,
    "start_time": "2025-09-26T21:52:01.982Z"
   },
   {
    "duration": 20,
    "start_time": "2025-09-26T21:52:01.989Z"
   },
   {
    "duration": 6,
    "start_time": "2025-09-26T21:52:02.010Z"
   },
   {
    "duration": 53,
    "start_time": "2025-09-26T21:52:02.018Z"
   },
   {
    "duration": 856,
    "start_time": "2025-09-26T21:52:02.073Z"
   },
   {
    "duration": 13,
    "start_time": "2025-09-26T21:52:02.930Z"
   },
   {
    "duration": 31,
    "start_time": "2025-09-26T21:52:02.957Z"
   },
   {
    "duration": 5,
    "start_time": "2025-09-26T21:52:02.990Z"
   },
   {
    "duration": 1592,
    "start_time": "2025-09-26T21:52:02.997Z"
   },
   {
    "duration": 20,
    "start_time": "2025-09-26T21:52:04.592Z"
   },
   {
    "duration": 181,
    "start_time": "2025-09-26T21:52:04.614Z"
   },
   {
    "duration": 74,
    "start_time": "2025-09-26T21:52:04.797Z"
   },
   {
    "duration": 4,
    "start_time": "2025-09-26T21:52:04.873Z"
   },
   {
    "duration": 265,
    "start_time": "2025-09-26T21:52:04.879Z"
   },
   {
    "duration": 39,
    "start_time": "2025-09-26T21:52:05.146Z"
   },
   {
    "duration": 32,
    "start_time": "2025-09-26T21:52:05.187Z"
   },
   {
    "duration": 7,
    "start_time": "2025-09-26T21:52:05.221Z"
   },
   {
    "duration": 32,
    "start_time": "2025-09-26T21:52:05.230Z"
   },
   {
    "duration": 147,
    "start_time": "2025-09-26T21:52:05.264Z"
   },
   {
    "duration": 208,
    "start_time": "2025-09-26T21:52:05.413Z"
   },
   {
    "duration": 104,
    "start_time": "2025-09-26T21:52:05.623Z"
   },
   {
    "duration": 253,
    "start_time": "2025-09-26T21:52:05.729Z"
   },
   {
    "duration": 13,
    "start_time": "2025-09-26T21:52:05.983Z"
   },
   {
    "duration": 53,
    "start_time": "2025-09-26T21:52:05.998Z"
   },
   {
    "duration": 18,
    "start_time": "2025-09-26T21:52:06.053Z"
   },
   {
    "duration": 35,
    "start_time": "2025-09-26T21:52:06.074Z"
   },
   {
    "duration": 43,
    "start_time": "2025-09-26T21:52:06.111Z"
   },
   {
    "duration": 32,
    "start_time": "2025-09-26T21:52:06.157Z"
   },
   {
    "duration": 7,
    "start_time": "2025-09-26T21:52:06.191Z"
   },
   {
    "duration": 12,
    "start_time": "2025-09-26T21:52:36.870Z"
   },
   {
    "duration": 12,
    "start_time": "2025-09-26T21:52:40.063Z"
   },
   {
    "duration": 14,
    "start_time": "2025-09-26T21:52:57.954Z"
   },
   {
    "duration": 13,
    "start_time": "2025-09-26T21:54:59.055Z"
   },
   {
    "duration": 10,
    "start_time": "2025-09-26T21:58:34.983Z"
   },
   {
    "duration": 12,
    "start_time": "2025-09-26T21:58:43.386Z"
   },
   {
    "duration": 3,
    "start_time": "2025-09-26T22:05:36.540Z"
   },
   {
    "duration": 73,
    "start_time": "2025-09-26T22:07:15.450Z"
   },
   {
    "duration": 13,
    "start_time": "2025-09-26T22:07:39.340Z"
   },
   {
    "duration": 17,
    "start_time": "2025-09-26T22:07:41.310Z"
   },
   {
    "duration": 135,
    "start_time": "2025-09-26T22:07:46.742Z"
   },
   {
    "duration": 364,
    "start_time": "2025-09-26T22:07:52.569Z"
   },
   {
    "duration": 1396,
    "start_time": "2025-09-26T22:07:54.793Z"
   },
   {
    "duration": 178,
    "start_time": "2025-09-26T22:09:19.304Z"
   },
   {
    "duration": 38,
    "start_time": "2025-09-26T22:09:20.847Z"
   },
   {
    "duration": 33,
    "start_time": "2025-09-26T22:09:22.270Z"
   },
   {
    "duration": 14,
    "start_time": "2025-09-26T22:09:23.994Z"
   },
   {
    "duration": 18,
    "start_time": "2025-09-26T22:09:26.767Z"
   },
   {
    "duration": 136,
    "start_time": "2025-09-26T22:09:29.697Z"
   },
   {
    "duration": 72,
    "start_time": "2025-09-26T22:09:32.349Z"
   },
   {
    "duration": 72,
    "start_time": "2025-09-26T22:09:51.234Z"
   },
   {
    "duration": 74,
    "start_time": "2025-09-26T22:11:03.031Z"
   },
   {
    "duration": 14,
    "start_time": "2025-09-26T22:11:03.433Z"
   },
   {
    "duration": 17,
    "start_time": "2025-09-26T22:11:04.299Z"
   },
   {
    "duration": 138,
    "start_time": "2025-09-26T22:11:04.528Z"
   },
   {
    "duration": 1316,
    "start_time": "2025-09-26T22:11:05.233Z"
   },
   {
    "duration": 0,
    "start_time": "2025-09-26T22:11:06.551Z"
   },
   {
    "duration": 4,
    "start_time": "2025-09-26T22:11:07.266Z"
   },
   {
    "duration": 70,
    "start_time": "2025-09-26T22:11:52.626Z"
   },
   {
    "duration": 14,
    "start_time": "2025-09-26T22:11:58.600Z"
   },
   {
    "duration": 19,
    "start_time": "2025-09-26T22:12:00.295Z"
   },
   {
    "duration": 19,
    "start_time": "2025-09-26T22:12:01.483Z"
   },
   {
    "duration": 134,
    "start_time": "2025-09-26T22:12:01.715Z"
   },
   {
    "duration": 117,
    "start_time": "2025-09-26T22:12:02.850Z"
   },
   {
    "duration": 255,
    "start_time": "2025-09-26T22:12:09.699Z"
   },
   {
    "duration": 4,
    "start_time": "2025-09-26T22:12:10.599Z"
   },
   {
    "duration": 16,
    "start_time": "2025-09-26T22:12:14.983Z"
   },
   {
    "duration": 8,
    "start_time": "2025-09-26T22:12:22.599Z"
   },
   {
    "duration": 25,
    "start_time": "2025-09-26T22:12:24.112Z"
   },
   {
    "duration": 24,
    "start_time": "2025-09-26T22:12:24.750Z"
   },
   {
    "duration": 32,
    "start_time": "2025-09-26T22:12:26.783Z"
   },
   {
    "duration": 71,
    "start_time": "2025-09-26T22:14:26.762Z"
   },
   {
    "duration": 112,
    "start_time": "2025-09-26T22:15:04.840Z"
   },
   {
    "duration": 85,
    "start_time": "2025-09-26T22:15:27.995Z"
   },
   {
    "duration": 83,
    "start_time": "2025-09-26T22:15:57.135Z"
   },
   {
    "duration": 84,
    "start_time": "2025-09-26T22:16:06.315Z"
   },
   {
    "duration": 70,
    "start_time": "2025-09-26T22:16:08.455Z"
   },
   {
    "duration": 14,
    "start_time": "2025-09-26T22:16:16.774Z"
   },
   {
    "duration": 17,
    "start_time": "2025-09-26T22:16:17.803Z"
   },
   {
    "duration": 131,
    "start_time": "2025-09-26T22:16:19.357Z"
   },
   {
    "duration": 102,
    "start_time": "2025-09-26T22:16:21.937Z"
   },
   {
    "duration": 244,
    "start_time": "2025-09-26T22:16:24.949Z"
   },
   {
    "duration": 3,
    "start_time": "2025-09-26T22:16:28.527Z"
   },
   {
    "duration": 15,
    "start_time": "2025-09-26T22:16:29.610Z"
   },
   {
    "duration": 9,
    "start_time": "2025-09-26T22:16:37.721Z"
   },
   {
    "duration": 25,
    "start_time": "2025-09-26T22:16:38.994Z"
   },
   {
    "duration": 24,
    "start_time": "2025-09-26T22:16:40.141Z"
   },
   {
    "duration": 25,
    "start_time": "2025-09-26T22:16:41.382Z"
   },
   {
    "duration": 30,
    "start_time": "2025-09-26T22:16:41.644Z"
   },
   {
    "duration": 14,
    "start_time": "2025-09-26T22:17:36.016Z"
   },
   {
    "duration": 8,
    "start_time": "2025-09-26T22:17:37.068Z"
   },
   {
    "duration": 30,
    "start_time": "2025-09-26T22:17:37.433Z"
   },
   {
    "duration": 7,
    "start_time": "2025-09-26T22:17:40.981Z"
   },
   {
    "duration": 52,
    "start_time": "2025-09-26T22:20:01.832Z"
   },
   {
    "duration": 1267,
    "start_time": "2025-09-26T22:20:03.628Z"
   },
   {
    "duration": 59,
    "start_time": "2025-09-26T22:20:04.897Z"
   },
   {
    "duration": 41,
    "start_time": "2025-09-26T22:20:04.958Z"
   },
   {
    "duration": 27,
    "start_time": "2025-09-26T22:20:05.347Z"
   },
   {
    "duration": 6,
    "start_time": "2025-09-26T22:20:05.747Z"
   },
   {
    "duration": 9,
    "start_time": "2025-09-26T22:20:05.910Z"
   },
   {
    "duration": 5,
    "start_time": "2025-09-26T22:20:06.075Z"
   },
   {
    "duration": 15,
    "start_time": "2025-09-26T22:20:06.278Z"
   },
   {
    "duration": 842,
    "start_time": "2025-09-26T22:20:06.493Z"
   },
   {
    "duration": 13,
    "start_time": "2025-09-26T22:20:07.731Z"
   },
   {
    "duration": 15,
    "start_time": "2025-09-26T22:20:08.064Z"
   },
   {
    "duration": 14,
    "start_time": "2025-09-26T22:20:11.947Z"
   },
   {
    "duration": 7,
    "start_time": "2025-09-26T22:20:13.580Z"
   },
   {
    "duration": 1671,
    "start_time": "2025-09-26T22:20:27.659Z"
   },
   {
    "duration": 32,
    "start_time": "2025-09-26T22:20:29.332Z"
   },
   {
    "duration": 132,
    "start_time": "2025-09-26T22:20:29.365Z"
   },
   {
    "duration": 70,
    "start_time": "2025-09-26T22:20:29.814Z"
   },
   {
    "duration": 6,
    "start_time": "2025-09-26T22:20:31.313Z"
   },
   {
    "duration": 244,
    "start_time": "2025-09-26T22:20:31.746Z"
   },
   {
    "duration": 38,
    "start_time": "2025-09-26T22:20:32.193Z"
   },
   {
    "duration": 34,
    "start_time": "2025-09-26T22:20:32.766Z"
   },
   {
    "duration": 73,
    "start_time": "2025-09-26T22:20:34.280Z"
   },
   {
    "duration": 67,
    "start_time": "2025-09-26T22:20:35.576Z"
   },
   {
    "duration": 13,
    "start_time": "2025-09-26T22:21:10.731Z"
   },
   {
    "duration": 19,
    "start_time": "2025-09-26T22:21:11.731Z"
   },
   {
    "duration": 142,
    "start_time": "2025-09-26T22:21:12.564Z"
   },
   {
    "duration": 114,
    "start_time": "2025-09-26T22:21:13.882Z"
   },
   {
    "duration": 246,
    "start_time": "2025-09-26T22:21:14.814Z"
   },
   {
    "duration": 13,
    "start_time": "2025-09-26T22:21:16.309Z"
   },
   {
    "duration": 14,
    "start_time": "2025-09-26T22:21:16.814Z"
   },
   {
    "duration": 25,
    "start_time": "2025-09-26T22:21:19.711Z"
   },
   {
    "duration": 8,
    "start_time": "2025-09-26T22:21:20.377Z"
   },
   {
    "duration": 30,
    "start_time": "2025-09-26T22:21:20.810Z"
   },
   {
    "duration": 231,
    "start_time": "2025-09-26T22:24:05.255Z"
   },
   {
    "duration": 21,
    "start_time": "2025-09-26T22:24:13.864Z"
   },
   {
    "duration": 18,
    "start_time": "2025-09-26T22:24:15.343Z"
   },
   {
    "duration": 133,
    "start_time": "2025-09-26T22:24:16.197Z"
   },
   {
    "duration": 115,
    "start_time": "2025-09-26T22:24:16.846Z"
   },
   {
    "duration": 253,
    "start_time": "2025-09-26T22:24:17.074Z"
   },
   {
    "duration": 1226,
    "start_time": "2025-09-26T22:24:28.644Z"
   },
   {
    "duration": 62,
    "start_time": "2025-09-26T22:24:29.872Z"
   },
   {
    "duration": 33,
    "start_time": "2025-09-26T22:24:30.265Z"
   },
   {
    "duration": 29,
    "start_time": "2025-09-26T22:24:30.630Z"
   },
   {
    "duration": 6,
    "start_time": "2025-09-26T22:24:30.993Z"
   },
   {
    "duration": 10,
    "start_time": "2025-09-26T22:24:31.193Z"
   },
   {
    "duration": 5,
    "start_time": "2025-09-26T22:24:31.693Z"
   },
   {
    "duration": 11,
    "start_time": "2025-09-26T22:24:31.909Z"
   },
   {
    "duration": 841,
    "start_time": "2025-09-26T22:24:32.109Z"
   },
   {
    "duration": 12,
    "start_time": "2025-09-26T22:24:33.042Z"
   },
   {
    "duration": 15,
    "start_time": "2025-09-26T22:24:33.225Z"
   },
   {
    "duration": 6,
    "start_time": "2025-09-26T22:24:33.409Z"
   },
   {
    "duration": 1594,
    "start_time": "2025-09-26T22:24:38.680Z"
   },
   {
    "duration": 20,
    "start_time": "2025-09-26T22:24:40.276Z"
   },
   {
    "duration": 152,
    "start_time": "2025-09-26T22:24:40.298Z"
   },
   {
    "duration": 68,
    "start_time": "2025-09-26T22:24:40.452Z"
   },
   {
    "duration": 4,
    "start_time": "2025-09-26T22:24:40.522Z"
   },
   {
    "duration": 271,
    "start_time": "2025-09-26T22:24:40.527Z"
   },
   {
    "duration": 37,
    "start_time": "2025-09-26T22:24:40.800Z"
   },
   {
    "duration": 32,
    "start_time": "2025-09-26T22:24:40.923Z"
   },
   {
    "duration": 201,
    "start_time": "2025-09-26T22:24:41.125Z"
   },
   {
    "duration": 28,
    "start_time": "2025-09-26T22:24:42.160Z"
   },
   {
    "duration": 19,
    "start_time": "2025-09-26T22:24:42.963Z"
   },
   {
    "duration": 140,
    "start_time": "2025-09-26T22:24:43.778Z"
   },
   {
    "duration": 113,
    "start_time": "2025-09-26T22:24:45.280Z"
   },
   {
    "duration": 261,
    "start_time": "2025-09-26T22:24:45.747Z"
   },
   {
    "duration": 15,
    "start_time": "2025-09-26T22:26:09.096Z"
   },
   {
    "duration": 20,
    "start_time": "2025-09-26T22:26:15.410Z"
   },
   {
    "duration": 132,
    "start_time": "2025-09-26T22:26:25.779Z"
   },
   {
    "duration": 17,
    "start_time": "2025-09-26T22:28:40.294Z"
   },
   {
    "duration": 130,
    "start_time": "2025-09-26T22:28:40.946Z"
   },
   {
    "duration": 115,
    "start_time": "2025-09-26T22:28:42.213Z"
   },
   {
    "duration": 268,
    "start_time": "2025-09-26T22:28:42.792Z"
   },
   {
    "duration": 100,
    "start_time": "2025-09-26T22:28:43.762Z"
   },
   {
    "duration": 15,
    "start_time": "2025-09-26T22:28:44.227Z"
   },
   {
    "duration": 26,
    "start_time": "2025-09-26T22:28:45.991Z"
   },
   {
    "duration": 26,
    "start_time": "2025-09-26T22:28:46.296Z"
   },
   {
    "duration": 9,
    "start_time": "2025-09-26T22:28:47.425Z"
   },
   {
    "duration": 34,
    "start_time": "2025-09-26T22:28:47.710Z"
   },
   {
    "duration": 113,
    "start_time": "2025-09-26T22:29:16.448Z"
   },
   {
    "duration": 245,
    "start_time": "2025-09-26T22:29:17.029Z"
   },
   {
    "duration": 4,
    "start_time": "2025-09-26T22:29:18.244Z"
   },
   {
    "duration": 15,
    "start_time": "2025-09-26T22:29:18.563Z"
   },
   {
    "duration": 28,
    "start_time": "2025-09-26T22:29:19.744Z"
   },
   {
    "duration": 27,
    "start_time": "2025-09-26T22:29:19.958Z"
   },
   {
    "duration": 8,
    "start_time": "2025-09-26T22:29:21.025Z"
   },
   {
    "duration": 30,
    "start_time": "2025-09-26T22:29:21.713Z"
   },
   {
    "duration": 7,
    "start_time": "2025-09-26T22:31:05.753Z"
   },
   {
    "duration": 12,
    "start_time": "2025-09-26T22:31:11.742Z"
   },
   {
    "duration": 20,
    "start_time": "2025-09-26T22:31:17.416Z"
   },
   {
    "duration": 5,
    "start_time": "2025-09-26T22:32:54.781Z"
   },
   {
    "duration": 28,
    "start_time": "2025-09-26T22:33:15.200Z"
   },
   {
    "duration": 110,
    "start_time": "2025-09-26T22:34:26.173Z"
   },
   {
    "duration": 12,
    "start_time": "2025-09-26T22:34:34.978Z"
   },
   {
    "duration": 8,
    "start_time": "2025-09-26T22:34:41.478Z"
   },
   {
    "duration": 5,
    "start_time": "2025-09-26T22:34:52.430Z"
   },
   {
    "duration": 246,
    "start_time": "2025-09-26T22:35:07.990Z"
   },
   {
    "duration": 235,
    "start_time": "2025-09-26T22:35:09.342Z"
   },
   {
    "duration": 4,
    "start_time": "2025-09-26T22:35:09.929Z"
   },
   {
    "duration": 14,
    "start_time": "2025-09-26T22:35:10.279Z"
   },
   {
    "duration": 12,
    "start_time": "2025-09-26T22:35:12.226Z"
   },
   {
    "duration": 10,
    "start_time": "2025-09-26T22:35:12.474Z"
   },
   {
    "duration": 7,
    "start_time": "2025-09-26T22:35:13.457Z"
   },
   {
    "duration": 31,
    "start_time": "2025-09-26T22:35:13.657Z"
   },
   {
    "duration": 11,
    "start_time": "2025-09-26T22:38:37.978Z"
   },
   {
    "duration": 212,
    "start_time": "2025-09-26T22:38:53.491Z"
   },
   {
    "duration": 88,
    "start_time": "2025-09-26T22:40:35.914Z"
   },
   {
    "duration": 8,
    "start_time": "2025-09-26T22:40:59.351Z"
   },
   {
    "duration": 28,
    "start_time": "2025-09-26T22:41:04.280Z"
   },
   {
    "duration": 1202,
    "start_time": "2025-09-26T22:42:05.474Z"
   },
   {
    "duration": 1684,
    "start_time": "2025-09-26T22:42:16.154Z"
   },
   {
    "duration": 31,
    "start_time": "2025-09-26T22:42:17.840Z"
   },
   {
    "duration": 146,
    "start_time": "2025-09-26T22:42:17.873Z"
   },
   {
    "duration": 80,
    "start_time": "2025-09-26T22:42:18.021Z"
   },
   {
    "duration": 5,
    "start_time": "2025-09-26T22:42:18.166Z"
   },
   {
    "duration": 7,
    "start_time": "2025-09-26T22:42:18.635Z"
   },
   {
    "duration": 9,
    "start_time": "2025-09-26T22:42:19.173Z"
   },
   {
    "duration": 175,
    "start_time": "2025-09-26T22:42:19.624Z"
   },
   {
    "duration": 10,
    "start_time": "2025-09-26T22:42:20.439Z"
   },
   {
    "duration": 236,
    "start_time": "2025-09-26T22:42:21.090Z"
   },
   {
    "duration": 1405,
    "start_time": "2025-09-26T22:42:21.824Z"
   },
   {
    "duration": 0,
    "start_time": "2025-09-26T22:42:23.230Z"
   },
   {
    "duration": 12,
    "start_time": "2025-09-26T22:42:23.552Z"
   },
   {
    "duration": 14,
    "start_time": "2025-09-26T22:42:24.206Z"
   },
   {
    "duration": 11,
    "start_time": "2025-09-26T22:42:26.489Z"
   },
   {
    "duration": 11,
    "start_time": "2025-09-26T22:42:27.004Z"
   },
   {
    "duration": 221,
    "start_time": "2025-09-26T22:43:25.574Z"
   },
   {
    "duration": 1322,
    "start_time": "2025-09-26T22:43:27.236Z"
   },
   {
    "duration": 180,
    "start_time": "2025-09-26T22:44:59.508Z"
   },
   {
    "duration": 176,
    "start_time": "2025-09-26T22:45:04.769Z"
   },
   {
    "duration": 97,
    "start_time": "2025-09-26T22:45:16.529Z"
   },
   {
    "duration": 248,
    "start_time": "2025-09-26T22:45:19.724Z"
   },
   {
    "duration": 4,
    "start_time": "2025-09-26T22:45:21.584Z"
   },
   {
    "duration": 17,
    "start_time": "2025-09-26T22:45:22.139Z"
   },
   {
    "duration": 8,
    "start_time": "2025-09-26T22:45:25.335Z"
   },
   {
    "duration": 27,
    "start_time": "2025-09-26T22:45:26.140Z"
   },
   {
    "duration": 10,
    "start_time": "2025-09-26T22:47:27.873Z"
   },
   {
    "duration": 49,
    "start_time": "2025-09-26T22:47:40.705Z"
   },
   {
    "duration": 1224,
    "start_time": "2025-09-26T22:47:46.623Z"
   },
   {
    "duration": 1703,
    "start_time": "2025-09-26T22:47:55.973Z"
   },
   {
    "duration": 70,
    "start_time": "2025-09-26T22:47:58.688Z"
   },
   {
    "duration": 65,
    "start_time": "2025-09-26T22:48:03.457Z"
   },
   {
    "duration": 11,
    "start_time": "2025-09-26T22:48:18.686Z"
   },
   {
    "duration": 10,
    "start_time": "2025-09-26T22:48:59.631Z"
   },
   {
    "duration": 10,
    "start_time": "2025-09-26T22:49:05.014Z"
   },
   {
    "duration": 11,
    "start_time": "2025-09-26T22:49:20.017Z"
   },
   {
    "duration": 11,
    "start_time": "2025-09-26T22:49:25.142Z"
   },
   {
    "duration": 10,
    "start_time": "2025-09-26T22:49:33.957Z"
   },
   {
    "duration": 11,
    "start_time": "2025-09-26T22:49:44.396Z"
   },
   {
    "duration": 8,
    "start_time": "2025-09-26T22:50:36.376Z"
   },
   {
    "duration": 11,
    "start_time": "2025-09-26T22:53:23.708Z"
   },
   {
    "duration": 11,
    "start_time": "2025-09-26T22:53:25.061Z"
   },
   {
    "duration": 6,
    "start_time": "2025-09-26T22:56:15.143Z"
   },
   {
    "duration": 10,
    "start_time": "2025-09-26T22:56:16.689Z"
   },
   {
    "duration": 13,
    "start_time": "2025-09-26T22:56:18.141Z"
   },
   {
    "duration": 7,
    "start_time": "2025-09-26T22:56:33.543Z"
   },
   {
    "duration": 12,
    "start_time": "2025-09-26T22:56:34.817Z"
   },
   {
    "duration": 11,
    "start_time": "2025-09-26T22:56:35.907Z"
   },
   {
    "duration": 11,
    "start_time": "2025-09-26T22:56:53.761Z"
   },
   {
    "duration": 5,
    "start_time": "2025-09-26T22:57:07.499Z"
   },
   {
    "duration": 5,
    "start_time": "2025-09-26T22:57:20.965Z"
   },
   {
    "duration": 8,
    "start_time": "2025-09-26T22:57:23.858Z"
   },
   {
    "duration": 234,
    "start_time": "2025-09-26T22:57:48.709Z"
   },
   {
    "duration": 118,
    "start_time": "2025-09-26T22:57:50.787Z"
   },
   {
    "duration": 245,
    "start_time": "2025-09-26T22:57:53.287Z"
   },
   {
    "duration": 12,
    "start_time": "2025-09-26T22:57:55.115Z"
   },
   {
    "duration": 14,
    "start_time": "2025-09-26T22:57:55.649Z"
   },
   {
    "duration": 7,
    "start_time": "2025-09-26T22:57:58.719Z"
   },
   {
    "duration": 25,
    "start_time": "2025-09-26T22:57:59.450Z"
   },
   {
    "duration": 8,
    "start_time": "2025-09-26T22:58:31.405Z"
   },
   {
    "duration": 7,
    "start_time": "2025-09-26T22:58:35.801Z"
   },
   {
    "duration": 14,
    "start_time": "2025-09-26T23:01:36.103Z"
   },
   {
    "duration": 3,
    "start_time": "2025-09-26T23:01:41.566Z"
   },
   {
    "duration": 94,
    "start_time": "2025-09-26T23:01:41.880Z"
   },
   {
    "duration": 24,
    "start_time": "2025-09-26T23:01:43.134Z"
   },
   {
    "duration": 25,
    "start_time": "2025-09-26T23:01:43.852Z"
   },
   {
    "duration": 5,
    "start_time": "2025-09-26T23:01:44.533Z"
   },
   {
    "duration": 12,
    "start_time": "2025-09-26T23:01:44.832Z"
   },
   {
    "duration": 6,
    "start_time": "2025-09-26T23:01:45.121Z"
   },
   {
    "duration": 12,
    "start_time": "2025-09-26T23:01:45.453Z"
   },
   {
    "duration": 805,
    "start_time": "2025-09-26T23:01:45.717Z"
   },
   {
    "duration": 11,
    "start_time": "2025-09-26T23:01:47.600Z"
   },
   {
    "duration": 18,
    "start_time": "2025-09-26T23:01:48.101Z"
   },
   {
    "duration": 6,
    "start_time": "2025-09-26T23:01:48.652Z"
   },
   {
    "duration": 13,
    "start_time": "2025-09-26T23:01:53.170Z"
   },
   {
    "duration": 6,
    "start_time": "2025-09-26T23:04:41.126Z"
   },
   {
    "duration": 86,
    "start_time": "2025-09-26T23:05:18.562Z"
   },
   {
    "duration": 88,
    "start_time": "2025-09-26T23:05:20.989Z"
   },
   {
    "duration": 80,
    "start_time": "2025-09-26T23:05:25.134Z"
   },
   {
    "duration": 86,
    "start_time": "2025-09-26T23:06:12.722Z"
   },
   {
    "duration": 106,
    "start_time": "2025-09-26T23:06:17.054Z"
   },
   {
    "duration": 78,
    "start_time": "2025-09-26T23:06:29.247Z"
   },
   {
    "duration": 12,
    "start_time": "2025-09-26T23:09:50.629Z"
   },
   {
    "duration": 15,
    "start_time": "2025-09-26T23:09:52.144Z"
   },
   {
    "duration": 14,
    "start_time": "2025-09-26T23:09:52.417Z"
   },
   {
    "duration": 6,
    "start_time": "2025-09-26T23:09:52.932Z"
   }
  ],
  "colab": {
   "provenance": [],
   "toc_visible": true
  },
  "kernelspec": {
   "display_name": "Python 3 (ipykernel)",
   "language": "python",
   "name": "python3"
  },
  "language_info": {
   "codemirror_mode": {
    "name": "ipython",
    "version": 3
   },
   "file_extension": ".py",
   "mimetype": "text/x-python",
   "name": "python",
   "nbconvert_exporter": "python",
   "pygments_lexer": "ipython3",
   "version": "3.9.5"
  },
  "toc": {
   "base_numbering": 1,
   "nav_menu": {},
   "number_sections": true,
   "sideBar": true,
   "skip_h1_title": true,
   "title_cell": "Table of Contents",
   "title_sidebar": "Contents",
   "toc_cell": false,
   "toc_position": {
    "height": "calc(100% - 180px)",
    "left": "10px",
    "top": "150px",
    "width": "165px"
   },
   "toc_section_display": true,
   "toc_window_display": true
  }
 },
 "nbformat": 4,
 "nbformat_minor": 5
}
